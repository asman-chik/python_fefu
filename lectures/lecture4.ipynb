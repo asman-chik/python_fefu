{
 "cells": [
  {
   "cell_type": "markdown",
   "metadata": {
    "slideshow": {
     "slide_type": "slide"
    }
   },
   "source": [
    "# Курс Python. Занятие 4. Классы, магические методы и декораторы"
   ]
  },
  {
   "cell_type": "markdown",
   "metadata": {
    "slideshow": {
     "slide_type": "slide"
    }
   },
   "source": [
    "## Содержание\n",
    "\n",
    "[Часть 1. Ещё раз про функции](#Часть-1.-Ещё-раз-про-функции)\n",
    "\n",
    "* [Вспомним про: функции, области видимости, LEGB](#Вспомним-про:-функции,-области-видимости,-LEGB\n",
    ")\n",
    "* [Замыкания: Closures](#Замыкания:-Closures\n",
    ")\n",
    "* [Декораторы](#Декораторы\n",
    ")\n",
    "\n",
    "[Часть 2. Классы](#Часть-2.-Классы)\n",
    "\n",
    "* [Общий синтаксис](#Общий-синтаксис\n",
    ")\n",
    "* [Атрибуты, методы и self](#Атрибуты,-методы-и-self)\n",
    "* [Инкапсуляция в Питоне](#Инкапсуляция-в-Питоне)\n",
    "* [Наследование](#Наследование)\n",
    "* [Магические методы](#Магические-методы)\n",
    "* [Классы в качестве структур данных](#Классы-в-качестве-структур-данных)\n",
    "* [Итераторы и генераторы](#Итераторы-и-генераторы)\n",
    "\n",
    "[Часть 3. Исключения](#Часть-3.-Исключения)\n",
    "\n",
    "* [Синтаксис: try - except - else - finally](#Синтаксис:-try---except---else---finally)\n",
    "* [Ключевое слово raise](#Ключевое-слово-raise\n",
    ")\n",
    "* [Объявление новых типов исключений](#Объявление-новых-типов-исключений)"
   ]
  },
  {
   "cell_type": "markdown",
   "metadata": {
    "slideshow": {
     "slide_type": "slide"
    }
   },
   "source": [
    "## Часть 1. Ещё раз про функции"
   ]
  },
  {
   "cell_type": "markdown",
   "metadata": {
    "slideshow": {
     "slide_type": "subslide"
    }
   },
   "source": [
    "### Вспомним про: функции, области видимости, LEGB\n",
    "- Функции в Питоне - полноценные объекты, их можно присвоить переменным\n",
    "- У них есть атрибуты, методы, их можно передавать в качестве аргументов и возвращать из других функций\n",
    "- Функции можно объявлять внутри других функций (и вообще в любых местах кода)\n",
    "- С каждой функцией связана связана своя локальная область видимости\n",
    "- 4 области видимости: local, enclosing, global, builtin"
   ]
  },
  {
   "cell_type": "code",
   "execution_count": 41,
   "metadata": {
    "slideshow": {
     "slide_type": "subslide"
    }
   },
   "outputs": [
    {
     "name": "stdout",
     "output_type": "stream",
     "text": [
      "After local assignment: test spam\n",
      "After nonlocal assignment: nonlocal spam\n",
      "After global assignment: nonlocal spam\n",
      "In global scope: global spam\n"
     ]
    }
   ],
   "source": [
    "# Пример областей видимости (из документации Питона)\n",
    "\n",
    "def scope_test():\n",
    "    spam = \"test spam\"\n",
    "    \n",
    "    def do_local():\n",
    "        spam = \"local spam\"\n",
    "        \n",
    "    def do_nonlocal():\n",
    "        nonlocal spam\n",
    "        spam = \"nonlocal spam\"\n",
    "        \n",
    "    def do_global():\n",
    "        global spam\n",
    "        spam = \"global spam\"\n",
    "  \n",
    "    do_local()\n",
    "    print(\"After local assignment:\", spam)\n",
    "    do_nonlocal()\n",
    "    print(\"After nonlocal assignment:\", spam)\n",
    "    do_global()\n",
    "    print(\"After global assignment:\", spam)\n",
    "\n",
    "scope_test()\n",
    "print(\"In global scope:\", spam)"
   ]
  },
  {
   "cell_type": "code",
   "execution_count": 42,
   "metadata": {
    "slideshow": {
     "slide_type": "subslide"
    }
   },
   "outputs": [
    {
     "name": "stdout",
     "output_type": "stream",
     "text": [
      "x = 2\n",
      "x = 7\n"
     ]
    }
   ],
   "source": [
    "# Подробнее про enclosing область видимости\n",
    "\n",
    "def add_number(a):\n",
    "    x = 2\n",
    "    def add_some():\n",
    "        print(\"x =\", x)\n",
    "        return a + x\n",
    "    return add_some()\n",
    "\n",
    "print(\"x =\", add_number(5))"
   ]
  },
  {
   "cell_type": "markdown",
   "metadata": {
    "slideshow": {
     "slide_type": "subslide"
    }
   },
   "source": [
    "### Замыкания: Closures\n",
    "Замыкание (closure) в программировании — это функция, в теле которой присутствуют ссылки на переменные, объявленные вне тела этой функции в окружающем коде и не являющиеся ее параметрами."
   ]
  },
  {
   "cell_type": "code",
   "execution_count": 3,
   "metadata": {
    "slideshow": {
     "slide_type": "fragment"
    }
   },
   "outputs": [
    {
     "data": {
      "text/plain": [
       "10"
      ]
     },
     "execution_count": 3,
     "metadata": {},
     "output_type": "execute_result"
    }
   ],
   "source": [
    "# Определим функцию умножения двух чисел\n",
    "\n",
    "def multiply(a, b):\n",
    "    return a * b\n",
    "\n",
    "multiply(5, 2)"
   ]
  },
  {
   "cell_type": "code",
   "execution_count": 4,
   "metadata": {
    "slideshow": {
     "slide_type": "fragment"
    }
   },
   "outputs": [
    {
     "data": {
      "text/plain": [
       "10"
      ]
     },
     "execution_count": 4,
     "metadata": {},
     "output_type": "execute_result"
    }
   ],
   "source": [
    "# Определим функцию умножения числа на 5\n",
    "\n",
    "def multiply_by_5(a):\n",
    "    return multiply(5, a)\n",
    "\n",
    "multiply_by_5(2)"
   ]
  },
  {
   "cell_type": "code",
   "execution_count": 5,
   "metadata": {
    "slideshow": {
     "slide_type": "subslide"
    }
   },
   "outputs": [
    {
     "name": "stdout",
     "output_type": "stream",
     "text": [
      "5\n"
     ]
    },
    {
     "data": {
      "text/plain": [
       "10"
      ]
     },
     "execution_count": 5,
     "metadata": {},
     "output_type": "execute_result"
    }
   ],
   "source": [
    "# Определим функцию, которая возвращает функцию, умножающую число на число\n",
    "\n",
    "def multiply(a):\n",
    "    def helper(b):\n",
    "        print(a)        # Печатаем enclosing переменную a\n",
    "        return a * b\n",
    "    return helper\n",
    "\n",
    "multiply(5)(2)"
   ]
  },
  {
   "cell_type": "code",
   "execution_count": 6,
   "metadata": {
    "slideshow": {
     "slide_type": "fragment"
    }
   },
   "outputs": [
    {
     "name": "stdout",
     "output_type": "stream",
     "text": [
      "<function multiply.<locals>.helper at 0x00000211974E2400>\n",
      "5\n",
      "10\n"
     ]
    }
   ],
   "source": [
    "# С помощью новой функции создадим функцию умножения на 5\n",
    "\n",
    "multiply_by_5 = multiply(5)\n",
    "\n",
    "print(multiply_by_5)\n",
    "print(multiply_by_5(2))             # Переменная a со значением 5 осталась, поскольку на неё ссылается helper"
   ]
  },
  {
   "cell_type": "markdown",
   "metadata": {
    "slideshow": {
     "slide_type": "subslide"
    }
   },
   "source": [
    "### Декораторы\n",
    "Декораторы — это, по сути, просто своеобразные «обёртки», которые дают нам возможность делать что-либо до и после того, что сделает декорируемая функция, не изменяя её."
   ]
  },
  {
   "cell_type": "code",
   "execution_count": 7,
   "metadata": {
    "slideshow": {
     "slide_type": "subslide"
    }
   },
   "outputs": [
    {
     "name": "stdout",
     "output_type": "stream",
     "text": [
      "Я простая одинокая функция, ты ведь не посмеешь меня изменять?..\n",
      "Я - код, который отработает до вызова функции\n",
      "Я простая одинокая функция, ты ведь не посмеешь меня изменять?..\n",
      "А я - код, срабатывающий после\n"
     ]
    }
   ],
   "source": [
    "# Допустим у нас есть обычная функция\n",
    "\n",
    "def simple_function():\n",
    "    print(\"Я простая одинокая функция, ты ведь не посмеешь меня изменять?..\")\n",
    "\n",
    "# И мы хотим вызвать код до и после её выполнения\n",
    "\n",
    "def decorator(function_to_decorate):\n",
    "    \n",
    "    def wrapper_around_function_to_decorate():\n",
    "\n",
    "        print(\"Я - код, который отработает до вызова функции\")\n",
    "        \n",
    "        function_to_decorate()\n",
    "\n",
    "        print(\"А я - код, срабатывающий после\")\n",
    "        \n",
    "    return wrapper_around_function_to_decorate\n",
    "\n",
    "simple_function()\n",
    "simple_function_decorated = decorator(simple_function)\n",
    "simple_function_decorated()"
   ]
  },
  {
   "cell_type": "code",
   "execution_count": 8,
   "metadata": {
    "scrolled": true,
    "slideshow": {
     "slide_type": "subslide"
    }
   },
   "outputs": [
    {
     "name": "stdout",
     "output_type": "stream",
     "text": [
      "Я - код, который отработает до вызова функции\n",
      "Я простая одинокая функция, ты ведь не посмеешь меня изменять?..\n",
      "А я - код, срабатывающий после\n"
     ]
    }
   ],
   "source": [
    "# Перезапишем имя обычной функции на вызов декоратора для удобства\n",
    "# Теперь обычной функции в старом виде нет\n",
    "\n",
    "simple_function = decorator(simple_function)\n",
    "simple_function()"
   ]
  },
  {
   "cell_type": "markdown",
   "metadata": {
    "slideshow": {
     "slide_type": "fragment"
    }
   },
   "source": [
    "Спецсимвол @ - удобный синтаксис для декорирования функций прямо во время объявления"
   ]
  },
  {
   "cell_type": "code",
   "execution_count": 9,
   "metadata": {
    "slideshow": {
     "slide_type": "fragment"
    }
   },
   "outputs": [
    {
     "name": "stdout",
     "output_type": "stream",
     "text": [
      "Я - код, который отработает до вызова функции\n",
      "Оставь меня в покое\n",
      "А я - код, срабатывающий после\n"
     ]
    }
   ],
   "source": [
    "@decorator\n",
    "def simple_function():\n",
    "    print(\"Оставь меня в покое\")\n",
    "\n",
    "simple_function()"
   ]
  },
  {
   "cell_type": "code",
   "execution_count": 10,
   "metadata": {
    "slideshow": {
     "slide_type": "subslide"
    }
   },
   "outputs": [
    {
     "name": "stdout",
     "output_type": "stream",
     "text": [
      "Я - код, который отработает до вызова функции\n",
      "Я - код, который отработает до вызова функции\n",
      "Оставь меня в покое\n",
      "А я - код, срабатывающий после\n",
      "А я - код, срабатывающий после\n"
     ]
    }
   ],
   "source": [
    "# Функции можно декорировать несколькими декораторами\n",
    "\n",
    "@decorator\n",
    "@decorator\n",
    "def simple_function():\n",
    "    print(\"Оставь меня в покое\")\n",
    "\n",
    "simple_function()"
   ]
  },
  {
   "cell_type": "code",
   "execution_count": 11,
   "metadata": {
    "slideshow": {
     "slide_type": "subslide"
    }
   },
   "outputs": [
    {
     "name": "stdout",
     "output_type": "stream",
     "text": [
      "args: (1, 2, 3)\n",
      "kwargs: {'n': 10, 'word': 'hello'}\n",
      "my args: (1, 2, 3)\n",
      "my kwargs: {'n': 10, 'word': 'hello'}\n"
     ]
    }
   ],
   "source": [
    "# Декоратор общего назначения для функций с параметрами\n",
    "\n",
    "def decorator_general(function_to_decorate):\n",
    "    \n",
    "    def wrapper_around_function_to_decorate(*args, **kwargs):\n",
    "\n",
    "        print(\"args:\", args)\n",
    "        print(\"kwargs:\", kwargs)\n",
    "        function_to_decorate(*args, **kwargs)       \n",
    "        \n",
    "    return wrapper_around_function_to_decorate\n",
    "\n",
    "# Функция с параметрами задекорированная нашим декоратором\n",
    "\n",
    "def function_with_params(*args, **kwargs):\n",
    "    print(\"my args:\", args)\n",
    "    print(\"my kwargs:\", kwargs)\n",
    "\n",
    "function_with_params = decorator_general(function_with_params)\n",
    "function_with_params(1, 2, 3, n=10, word=\"hello\")"
   ]
  },
  {
   "cell_type": "code",
   "execution_count": 12,
   "metadata": {
    "slideshow": {
     "slide_type": "subslide"
    }
   },
   "outputs": [
    {
     "name": "stdout",
     "output_type": "stream",
     "text": [
      "args: (1, 2, 3)\n",
      "kwargs: {'n': 10, 'word': 'hello'}\n",
      "my args: (1, 2, 3)\n",
      "my kwar|gs: {'n': 10, 'word': 'hello'}\n"
     ]
    }
   ],
   "source": [
    "@decorator_general\n",
    "def function_with_params(*args, **kwargs):\n",
    "    print(\"my args:\", args)\n",
    "    print(\"my kwargs:\", kwargs)\n",
    "\n",
    "function_with_params(1, 2, 3, n=10, word=\"hello\")"
   ]
  },
  {
   "cell_type": "markdown",
   "metadata": {
    "slideshow": {
     "slide_type": "fragment"
    }
   },
   "source": [
    "Есть ещё декораторы с параметрами, но это сложно, так что потом или самостоятельно."
   ]
  },
  {
   "cell_type": "markdown",
   "metadata": {
    "slideshow": {
     "slide_type": "slide"
    }
   },
   "source": [
    "## Часть 2. Классы"
   ]
  },
  {
   "cell_type": "markdown",
   "metadata": {
    "slideshow": {
     "slide_type": "subslide"
    }
   },
   "source": [
    "Объектно-ориентированное программирование (ООП) — парадигма программирования, в которой основными концепциями являются понятия объектов и классов.Использование классов дает преимущества абстрактного подхода в программировании.\n",
    "\n",
    "Основные свойства классов:\n",
    "* **Абстрагирование**: выделить важное, обычно абстракция данных\n",
    "* **Инкапсуляция**: у классов есть данные и методы работы с ними, не все могут быть публичными\n",
    "* **Наследование**: на основе одних классов можно создавать другие, повторяющих и расширяющих их функционал\n",
    "* **Полиморфизм**: разное поведение одного и того же метода в разных классах\n",
    "* **Композиция**: классы могут содержать другие классы, чтобы расширить свой функционал"
   ]
  },
  {
   "cell_type": "markdown",
   "metadata": {
    "slideshow": {
     "slide_type": "subslide"
    }
   },
   "source": [
    "Объектно-ориентированный подход в программировании подразумевает следующий алгоритм действий:\n",
    "\n",
    "1. Описывается **проблема** с помощью обычного языка с использованием понятий, действий, прилагательных.\n",
    "2. На основе **понятий** формулируются **классы**.\n",
    "3. На основе **действий** проектируются **методы**.\n",
    "4. **Реализуются** методы и атрибуты."
   ]
  },
  {
   "cell_type": "markdown",
   "metadata": {
    "slideshow": {
     "slide_type": "subslide"
    }
   },
   "source": [
    "Наиболее важные особенности классов в Питоне:\n",
    "* множественное наследование\n",
    "* производный класс может переопределить любые методы базовых классов\n",
    "* в любом месте можно вызвать метод с тем же именем базового класса\n",
    "* все атрибуты класса в питоне по умолчанию являются public, т.е. доступны отовсюду\n",
    "* все методы — виртуальные, т.е. перегружают базовые"
   ]
  },
  {
   "cell_type": "markdown",
   "metadata": {
    "slideshow": {
     "slide_type": "subslide"
    }
   },
   "source": [
    "### Общий синтаксис\n",
    "В общем случае класс - это составной оператор, кусок кода, как if, for, def. <br><br>\n",
    "Одно отличие: при объявлении класса с помощью ключевого слова `class` создаётся объект Класс (как объект Функция)."
   ]
  },
  {
   "cell_type": "code",
   "execution_count": 13,
   "metadata": {
    "slideshow": {
     "slide_type": "fragment"
    }
   },
   "outputs": [
    {
     "name": "stdout",
     "output_type": "stream",
     "text": [
      "<class '__main__.MyClass'>\n"
     ]
    }
   ],
   "source": [
    "# Синтаксис\n",
    "\n",
    "class MyClass:\n",
    "    pass\n",
    "\n",
    "print(MyClass)"
   ]
  },
  {
   "cell_type": "markdown",
   "metadata": {
    "slideshow": {
     "slide_type": "fragment"
    }
   },
   "source": [
    "Экземпляр класса создаётся при \"вызове объекта Класс\" и присваивании результата переменной. <br><br>\n",
    "\n",
    "Этот экземпляр ещё называют объектом или инстансом (instance, instantiation)."
   ]
  },
  {
   "cell_type": "code",
   "execution_count": 14,
   "metadata": {
    "scrolled": true,
    "slideshow": {
     "slide_type": "fragment"
    }
   },
   "outputs": [
    {
     "name": "stdout",
     "output_type": "stream",
     "text": [
      "<__main__.MyClass object at 0x00000211974FF4E0>\n"
     ]
    }
   ],
   "source": [
    "my_class = MyClass()\n",
    "print(my_class) "
   ]
  },
  {
   "cell_type": "markdown",
   "metadata": {
    "slideshow": {
     "slide_type": "subslide"
    }
   },
   "source": [
    "### Атрибуты, методы и self"
   ]
  },
  {
   "cell_type": "markdown",
   "metadata": {
    "slideshow": {
     "slide_type": "fragment"
    }
   },
   "source": [
    "С точки зрения Питона атрибуты и методы класса - одно и тоже, поскольку всё - объекты.<br><br>\n",
    "Создание экзэмпляра класса - по сути инициализация, то есть создание атрибутов и задание им значений.<br><br>\n",
    "Для этого используется специальная функция `__init__` и идентификатор инстанса `self` (аналог this в С++)."
   ]
  },
  {
   "cell_type": "code",
   "execution_count": 40,
   "metadata": {
    "slideshow": {
     "slide_type": "subslide"
    }
   },
   "outputs": [
    {
     "name": "stdout",
     "output_type": "stream",
     "text": [
      "Class attr: 0 0\n",
      "Instance attr: 1 2\n",
      "I'm a class method\n",
      "I'm an instance method\n",
      "I'm an instance method\n"
     ]
    }
   ],
   "source": [
    "# Пример объявления (создания) класса, имеющего атрибуты и методы класса и атрибуты и методы инстанса\n",
    "\n",
    "class MyClass:\n",
    "\n",
    "    class_attr = 0\n",
    "\n",
    "    def __init__(self, attr):\n",
    "        self.instance_attr = attr\n",
    "    \n",
    "    def class_method():\n",
    "        print(\"I'm a class method\")\n",
    "\n",
    "    def instance_method(self):\n",
    "        print(\"I'm an instance method\")\n",
    "    \n",
    "instance1 = MyClass(1)\n",
    "instance2 = MyClass(2)\n",
    "\n",
    "print(\"Class attr:\", instance1.class_attr, instance2.class_attr)\n",
    "print(\"Instance attr:\", instance1.instance_attr, instance2.instance_attr)\n",
    "\n",
    "MyClass.class_method()\n",
    "instance1.instance_method()\n",
    "instance2.instance_method()"
   ]
  },
  {
   "cell_type": "code",
   "execution_count": 16,
   "metadata": {
    "scrolled": true,
    "slideshow": {
     "slide_type": "subslide"
    }
   },
   "outputs": [
    {
     "ename": "TypeError",
     "evalue": "class_method() takes 0 positional arguments but 1 was given",
     "output_type": "error",
     "traceback": [
      "\u001b[1;31m---------------------------------------------------------------------------\u001b[0m",
      "\u001b[1;31mTypeError\u001b[0m                                 Traceback (most recent call last)",
      "\u001b[1;32m<ipython-input-16-0df4f1d0d24c>\u001b[0m in \u001b[0;36m<module>\u001b[1;34m()\u001b[0m\n\u001b[0;32m      1\u001b[0m \u001b[1;31m# Но ошибка при вызове метода класса у его экзэмпляра\u001b[0m\u001b[1;33m\u001b[0m\u001b[1;33m\u001b[0m\u001b[0m\n\u001b[0;32m      2\u001b[0m \u001b[1;33m\u001b[0m\u001b[0m\n\u001b[1;32m----> 3\u001b[1;33m \u001b[0minstance1\u001b[0m\u001b[1;33m.\u001b[0m\u001b[0mclass_method\u001b[0m\u001b[1;33m(\u001b[0m\u001b[1;33m)\u001b[0m\u001b[1;33m\u001b[0m\u001b[0m\n\u001b[0m",
      "\u001b[1;31mTypeError\u001b[0m: class_method() takes 0 positional arguments but 1 was given"
     ]
    }
   ],
   "source": [
    "# Но ошибка при вызове метода класса у его экзэмпляра\n",
    "\n",
    "instance1.class_method()"
   ]
  },
  {
   "cell_type": "markdown",
   "metadata": {
    "slideshow": {
     "slide_type": "fragment"
    }
   },
   "source": [
    "Что произошло? <br><br>Когда мы вызываем метод у экзэмпляра, он автоматически передаёт ссылку на себя в этот метод первым аргументом. <br><br>\n",
    "Поэтому мы пишем `self` первым параметром при объявлении методов экзэмпляров класса.<br><br>\n",
    "Такие методы ещё называют bound-методами."
   ]
  },
  {
   "cell_type": "code",
   "execution_count": 17,
   "metadata": {
    "slideshow": {
     "slide_type": "subslide"
    }
   },
   "outputs": [
    {
     "name": "stdout",
     "output_type": "stream",
     "text": [
      "I'm a class method\n",
      "I'm a class method\n",
      "I'm a class method\n"
     ]
    }
   ],
   "source": [
    "# Чтобы объявить статический метод (метод класса, который можно вызывать у каждого экзэмпляра), \n",
    "# используют декоратор @staticmethod\n",
    "\n",
    "class MyClass:\n",
    "\n",
    "    class_attr = 0\n",
    "\n",
    "    def __init__(self, attr):\n",
    "        self.instance_attr = attr\n",
    "        \n",
    "    @staticmethod\n",
    "    def class_method():\n",
    "        print(\"I'm a class method\")\n",
    "\n",
    "    def instance_method(self):\n",
    "        print(\"I'm an instance method\")\n",
    "        \n",
    "instance1 = MyClass(1)\n",
    "instance2 = MyClass(2)\n",
    "        \n",
    "MyClass.class_method()\n",
    "instance1.class_method()\n",
    "instance2.class_method()    "
   ]
  },
  {
   "cell_type": "markdown",
   "metadata": {
    "slideshow": {
     "slide_type": "subslide"
    }
   },
   "source": [
    "Атрибуты класса к его экзэмпляру можно добавлять на лету"
   ]
  },
  {
   "cell_type": "code",
   "execution_count": 18,
   "metadata": {
    "slideshow": {
     "slide_type": "fragment"
    }
   },
   "outputs": [
    {
     "name": "stdout",
     "output_type": "stream",
     "text": [
      "hello\n"
     ]
    }
   ],
   "source": [
    "instance1.my_attr = 'hello'\n",
    "\n",
    "print(instance1.my_attr)"
   ]
  },
  {
   "cell_type": "markdown",
   "metadata": {
    "slideshow": {
     "slide_type": "subslide"
    }
   },
   "source": [
    "### Инкапсуляция в Питоне"
   ]
  },
  {
   "cell_type": "markdown",
   "metadata": {
    "slideshow": {
     "slide_type": "fragment"
    }
   },
   "source": [
    "Вообще в Питоне НЕ принято что-то прятать от программиста, но если очень нужно отделить внутреннюю логику класса (protected и private) и его внешний интерфейс (public), то пользуются следующими договорённостями:\n",
    "- атрибуты (свойства и методы), которые нужно скрыть, называются с символа нижнее подчёркивание \"_\" (underscore)\n",
    "- атрибуты, которые совсем приватные, начинаются с двух нижних подчёркиваний \"__\" (double underscore, dunder)"
   ]
  },
  {
   "cell_type": "code",
   "execution_count": 37,
   "metadata": {
    "slideshow": {
     "slide_type": "subslide"
    }
   },
   "outputs": [
    {
     "data": {
      "text/plain": [
       "{'public': 'public',\n",
       " '_protected': 'protected',\n",
       " '_Incapsulation__private': 'private'}"
      ]
     },
     "execution_count": 37,
     "metadata": {},
     "output_type": "execute_result"
    }
   ],
   "source": [
    "class Incapsulation:\n",
    "    \n",
    "    def __init__(self):\n",
    "        self.public = 'public'\n",
    "        self._protected = 'protected'\n",
    "        self.__private = 'private'\n",
    "    \n",
    "    def public_method(self):\n",
    "        print(\"I'm public\")\n",
    "    \n",
    "    def _protected_method(self):\n",
    "        print(\"I'm protected\")\n",
    "        \n",
    "    def __private_method(self):\n",
    "        print(\"I'm private\")\n",
    "\n",
    "instance = Incapsulation()\n",
    "\n",
    "# Посмотрим переменные экзэмпляра\n",
    "instance.__dict__"
   ]
  },
  {
   "cell_type": "code",
   "execution_count": 39,
   "metadata": {
    "slideshow": {
     "slide_type": "subslide"
    }
   },
   "outputs": [
    {
     "name": "stdout",
     "output_type": "stream",
     "text": [
      "I'm public\n",
      "I'm protected\n",
      "I'm private\n"
     ]
    }
   ],
   "source": [
    "# Вызовем методы\n",
    "\n",
    "instance.public_method()\n",
    "instance._protected_method()\n",
    "instance._Incapsulation__private_method()"
   ]
  },
  {
   "cell_type": "markdown",
   "metadata": {
    "slideshow": {
     "slide_type": "subslide"
    }
   },
   "source": [
    "### Наследование\n"
   ]
  },
  {
   "cell_type": "code",
   "execution_count": 43,
   "metadata": {
    "slideshow": {
     "slide_type": "fragment"
    }
   },
   "outputs": [],
   "source": [
    "# Класс просто человек с именем и без работы по умолчанию :(\n",
    "\n",
    "class Person:\n",
    "    \n",
    "    def __init__(self, name, job=None, salary=0):\n",
    "        self.name = name\n",
    "        self.job = job\n",
    "        self.salary = salary\n",
    "        \n",
    "    def print_person(self):\n",
    "        print(f'Person. Name = {self.name}, Job = {self.job}, Salary = {self.salary}')\n",
    "\n",
    "# Класс менеджер, функция super() используется для получения родительского класса\n",
    "\n",
    "class Manager(Person):\n",
    "    \n",
    "    def __init__(self, name, salary):\n",
    "        super().__init__(name, 'Manager', salary)        "
   ]
  },
  {
   "cell_type": "code",
   "execution_count": 20,
   "metadata": {
    "scrolled": true,
    "slideshow": {
     "slide_type": "subslide"
    }
   },
   "outputs": [
    {
     "name": "stdout",
     "output_type": "stream",
     "text": [
      "Person. Name = John, Job = None, Salary = 0\n",
      "Person. Name = Mary, Job = Manager, Salary = 1000\n"
     ]
    }
   ],
   "source": [
    "person = Person('John')\n",
    "manager = Manager('Mary', 1000)\n",
    "\n",
    "person.print_person()\n",
    "manager.print_person()"
   ]
  },
  {
   "cell_type": "markdown",
   "metadata": {
    "slideshow": {
     "slide_type": "fragment"
    }
   },
   "source": [
    "Возможно также множественное наследование, но лучше не стоит :)"
   ]
  },
  {
   "cell_type": "markdown",
   "metadata": {
    "slideshow": {
     "slide_type": "subslide"
    }
   },
   "source": [
    "### Магические методы"
   ]
  },
  {
   "cell_type": "markdown",
   "metadata": {
    "slideshow": {
     "slide_type": "fragment"
    }
   },
   "source": [
    "Метод `__init__` - один из множества предопределённых имён методов, которые делают разное. Их называют магическими методами.<br><br>\n",
    "Перечислим основные группы магических методов:\n",
    "- Сравнения\n",
    "- Математические\n",
    "- Конвертации типов\n",
    "- Строкового представления\n",
    "- Работы с атрибутами\n",
    "- Работы с последовательностями\n",
    "- Работы с контекстными менеджерами\n",
    "- Вызова\n",
    "\n",
    "Все методы перечислять долго, есть руководства, например, [ЭТО](https://habr.com/post/186608/).<br>\n",
    "Приведём пример."
   ]
  },
  {
   "cell_type": "markdown",
   "metadata": {
    "slideshow": {
     "slide_type": "subslide"
    }
   },
   "source": [
    "`__str__` и `__repr__` - для строкового представления экземпляров класса"
   ]
  },
  {
   "cell_type": "code",
   "execution_count": 21,
   "metadata": {
    "slideshow": {
     "slide_type": "fragment"
    }
   },
   "outputs": [
    {
     "name": "stdout",
     "output_type": "stream",
     "text": [
      "Person: Name = John, Job = Manager, Salary = 2000\n"
     ]
    },
    {
     "data": {
      "text/plain": [
       "Person(name=John, job=Manager, salary=2000)"
      ]
     },
     "execution_count": 21,
     "metadata": {},
     "output_type": "execute_result"
    }
   ],
   "source": [
    "class Person:\n",
    "    \n",
    "    def __init__(self, name, job=None, salary=0):\n",
    "        self.name = name\n",
    "        self.job = job\n",
    "        self.salary = salary\n",
    "        \n",
    "    # Представление для программиста (по сути строчка кода с конструктором)\n",
    "    \n",
    "    def __repr__(self):\n",
    "        return f'Person(name={self.name}, job={self.job}, salary={self.salary})'\n",
    "\n",
    "    # Представление для пользователя (при выводе на печать)\n",
    "    \n",
    "    def __str__(self):\n",
    "        return f'Person: Name = {self.name}, Job = {self.job}, Salary = {self.salary}'\n",
    "    \n",
    "person = Person('John', 'Manager', 2000)\n",
    "\n",
    "print(person)\n",
    "person"
   ]
  },
  {
   "cell_type": "markdown",
   "metadata": {
    "slideshow": {
     "slide_type": "subslide"
    }
   },
   "source": [
    "### Классы в качестве структур данных"
   ]
  },
  {
   "cell_type": "markdown",
   "metadata": {
    "slideshow": {
     "slide_type": "fragment"
    }
   },
   "source": [
    "Поскольку классы позволяют добавлять новые атрибуты к его экзэмплярам на лету, это можно использовать для создания структур данных из классов."
   ]
  },
  {
   "cell_type": "code",
   "execution_count": 22,
   "metadata": {
    "slideshow": {
     "slide_type": "fragment"
    }
   },
   "outputs": [
    {
     "name": "stdout",
     "output_type": "stream",
     "text": [
      "John Manager\n"
     ]
    }
   ],
   "source": [
    "class Person:\n",
    "    pass\n",
    "\n",
    "person = Person()\n",
    "person.name = 'John'\n",
    "person.job = 'Manager'\n",
    "\n",
    "print(person.name, person.job)"
   ]
  },
  {
   "cell_type": "markdown",
   "metadata": {
    "slideshow": {
     "slide_type": "subslide"
    }
   },
   "source": [
    "Но в Питоне с версии 3.7 для этих целей ввели Dataclasses - классы данных. Они позволяют явно объявить классы как структуры данных.<br><br>\n",
    "Для этого нужно сделать импорт `from dataclasses import dataclass` и обернуть создаваемый декоратором @dataclass и перечислить в теле класса атрибуты и типы со значениями по умолчанию, а также методы. Декоратор сам создаст методы `__init__`, `__repr__`, `__eq__`.<br><br>\n",
    "Подробнее про датаклассы можно почитать на [хабре](https://habr.com/post/415829/)."
   ]
  },
  {
   "cell_type": "code",
   "execution_count": 23,
   "metadata": {
    "scrolled": true,
    "slideshow": {
     "slide_type": "fragment"
    }
   },
   "outputs": [
    {
     "ename": "ModuleNotFoundError",
     "evalue": "No module named 'dataclasses'",
     "output_type": "error",
     "traceback": [
      "\u001b[1;31m---------------------------------------------------------------------------\u001b[0m",
      "\u001b[1;31mModuleNotFoundError\u001b[0m                       Traceback (most recent call last)",
      "\u001b[1;32m<ipython-input-23-f4d382279eb2>\u001b[0m in \u001b[0;36m<module>\u001b[1;34m()\u001b[0m\n\u001b[1;32m----> 1\u001b[1;33m \u001b[1;32mfrom\u001b[0m \u001b[0mdataclasses\u001b[0m \u001b[1;32mimport\u001b[0m \u001b[0mdataclass\u001b[0m\u001b[1;33m\u001b[0m\u001b[0m\n\u001b[0m\u001b[0;32m      2\u001b[0m \u001b[1;33m\u001b[0m\u001b[0m\n\u001b[0;32m      3\u001b[0m \u001b[1;33m@\u001b[0m\u001b[0mdataclass\u001b[0m\u001b[1;33m\u001b[0m\u001b[0m\n\u001b[0;32m      4\u001b[0m \u001b[1;32mclass\u001b[0m \u001b[0mInventoryItem\u001b[0m\u001b[1;33m:\u001b[0m\u001b[1;33m\u001b[0m\u001b[0m\n\u001b[0;32m      5\u001b[0m     \u001b[1;34m'''Класс данных для системы инвентаря'''\u001b[0m\u001b[1;33m\u001b[0m\u001b[0m\n",
      "\u001b[1;31mModuleNotFoundError\u001b[0m: No module named 'dataclasses'"
     ]
    }
   ],
   "source": [
    "from dataclasses import dataclass\n",
    "\n",
    "@dataclass\n",
    "class InventoryItem:\n",
    "    '''Класс данных для системы инвентаря'''\n",
    "    \n",
    "    name: str\n",
    "    unit_price: float\n",
    "    quantity_on_hand: int = 0\n",
    "\n",
    "    def total_cost(self) -> float:\n",
    "        return self.unit_price * self.quantity_on_hand"
   ]
  },
  {
   "cell_type": "markdown",
   "metadata": {
    "slideshow": {
     "slide_type": "subslide"
    }
   },
   "source": [
    "### Итераторы и генераторы"
   ]
  },
  {
   "cell_type": "markdown",
   "metadata": {
    "slideshow": {
     "slide_type": "fragment"
    }
   },
   "source": [
    "Итераторы - классы, реализующие магические методы `__iter__` и `__next__`. <br><br>\n",
    "Генераторы - функции, возвращающие результат с помощью `yield`.<br><br>\n",
    "И те, и те - возвращают по одному \"элементу\" за \"раз\" и используются в циклах или явно с функцией `iter()`."
   ]
  },
  {
   "cell_type": "code",
   "execution_count": 24,
   "metadata": {
    "slideshow": {
     "slide_type": "subslide"
    }
   },
   "outputs": [
    {
     "name": "stdout",
     "output_type": "stream",
     "text": [
      "!dlroW ,olleH\n"
     ]
    }
   ],
   "source": [
    "# Итератор - класс\n",
    "\n",
    "class Reverse:\n",
    "    \"\"\"Итератор для обхода переданной ему последовательности в обратном порядке\"\"\"\n",
    "    def __init__(self, data):\n",
    "        self.data = data\n",
    "        self.index = len(data)\n",
    "\n",
    "    # Всегда возвращает экзэмпляр класса\n",
    "    \n",
    "    def __iter__(self):\n",
    "        return self\n",
    "\n",
    "    # Возвращает следующий \"элемент\" или вызывает исключение StopIteration\n",
    "    \n",
    "    def __next__(self):\n",
    "        if self.index == 0:\n",
    "            raise StopIteration\n",
    "        self.index = self.index - 1\n",
    "        return self.data[self.index]\n",
    "    \n",
    "rev = list(Reverse('Hello, World!'))\n",
    "print(''.join(rev))"
   ]
  },
  {
   "cell_type": "code",
   "execution_count": 25,
   "metadata": {
    "slideshow": {
     "slide_type": "subslide"
    }
   },
   "outputs": [
    {
     "name": "stdout",
     "output_type": "stream",
     "text": [
      "!dlroW ,olleH\n"
     ]
    }
   ],
   "source": [
    "# Генератор - функция. Генератор проще :)\n",
    "\n",
    "def reverse(data):\n",
    "    for index in range(len(data)-1, -1, -1):\n",
    "        yield data[index]\n",
    "\n",
    "rev = list(reverse('Hello, World!'))\n",
    "print(''.join(rev))"
   ]
  },
  {
   "cell_type": "markdown",
   "metadata": {
    "slideshow": {
     "slide_type": "slide"
    }
   },
   "source": [
    "## Часть 3. Исключения"
   ]
  },
  {
   "cell_type": "markdown",
   "metadata": {
    "slideshow": {
     "slide_type": "subslide"
    }
   },
   "source": [
    "Исключения (exceptions) - ещё один тип данных в Python. Исключения необходимы для того, чтобы сообщать программисту об ошибках.<br><br> Исключения можно ловить, обрабатывать, вызывать.<br><br>\n",
    "Исключения - иерархия классов, которые наследуются друг от друга и у которых есть соответствующие названия. Часть иерархии:\n",
    "```\n",
    "BaseException\n",
    " +-- SystemExit\n",
    " +-- KeyboardInterrupt\n",
    " +-- GeneratorExit\n",
    " +-- Exception\n",
    "      +-- StopIteration\n",
    "      +-- StopAsyncIteration\n",
    "      +-- ArithmeticError\n",
    "      |    +-- FloatingPointError\n",
    "      |    +-- OverflowError\n",
    "      |    +-- ZeroDivisionError\n",
    "      +-- AssertionError\n",
    "      +-- AttributeError\n",
    "      +-- BufferError\n",
    "      +-- EOFError\n",
    "      +-- ImportError\n",
    "           +-- ModuleNotFoundError\n",
    "................\n",
    "```"
   ]
  },
  {
   "cell_type": "markdown",
   "metadata": {
    "slideshow": {
     "slide_type": "subslide"
    }
   },
   "source": [
    "### Синтаксис: try - except - else - finally"
   ]
  },
  {
   "cell_type": "code",
   "execution_count": 26,
   "metadata": {
    "slideshow": {
     "slide_type": "fragment"
    }
   },
   "outputs": [
    {
     "name": "stdout",
     "output_type": "stream",
     "text": [
      "Zero division exception raised. Text of exception: division by zero\n",
      "Do this everytime\n"
     ]
    }
   ],
   "source": [
    "# Блок кода, в котором может возникнуть исключение\n",
    "\n",
    "# Сначала пытаемся сделать что-то опасное\n",
    "\n",
    "try:  \n",
    "    a = 10/0\n",
    "    print (a)\n",
    "\n",
    "# Потом перехватываем конкретную ошибку (или ошибки через запятую)\n",
    "    \n",
    "except ZeroDivisionError as e:  \n",
    "    print(\"Zero division exception raised.\" , \"Text of exception:\", e)\n",
    "\n",
    "# Несколько except работает как elif, обычно самые общие исключения - внизу\n",
    "\n",
    "except Exception:\n",
    "    print(\"Other type of exception raised.\")\n",
    "    \n",
    "# Если всё прошло хорошо, то выполнить код в else\n",
    "\n",
    "else:  \n",
    "    print(\"Do this if no exceptions\")\n",
    "    \n",
    "# Код в finally выполнить в любом случае\n",
    "finally:\n",
    "    print(\"Do this everytime\")"
   ]
  },
  {
   "cell_type": "markdown",
   "metadata": {
    "slideshow": {
     "slide_type": "subslide"
    }
   },
   "source": [
    "### Ключевое слово raise\n",
    "Исключения можно порождать явно. Для этого используется ключевое слово raise и имя класса исключения."
   ]
  },
  {
   "cell_type": "code",
   "execution_count": 27,
   "metadata": {
    "scrolled": false,
    "slideshow": {
     "slide_type": "fragment"
    }
   },
   "outputs": [
    {
     "name": "stdout",
     "output_type": "stream",
     "text": [
      "5.0\n",
      "Zero division exception raised. Text of exception: Всё равно деление на ноль :)\n"
     ]
    }
   ],
   "source": [
    "try:  \n",
    "    a = 10/2\n",
    "    print (a)\n",
    "    \n",
    "    # Явно вызываем (бросаем) исключение нужного класса, текст передаём как параметр\n",
    "    \n",
    "    raise ZeroDivisionError('Всё равно деление на ноль :)')\n",
    "\n",
    "except ZeroDivisionError as e:  \n",
    "    print(\"Zero division exception raised.\" , \"Text of exception:\", e)"
   ]
  },
  {
   "cell_type": "markdown",
   "metadata": {
    "slideshow": {
     "slide_type": "subslide"
    }
   },
   "source": [
    "### Объявление новых типов исключений"
   ]
  },
  {
   "cell_type": "markdown",
   "metadata": {
    "slideshow": {
     "slide_type": "fragment"
    }
   },
   "source": [
    "Поскольку исключения - классы, от них можно наследоваться (обычно от Exception)."
   ]
  },
  {
   "cell_type": "code",
   "execution_count": 28,
   "metadata": {
    "scrolled": true,
    "slideshow": {
     "slide_type": "fragment"
    }
   },
   "outputs": [
    {
     "name": "stdout",
     "output_type": "stream",
     "text": [
      "My Exception\n"
     ]
    }
   ],
   "source": [
    "# Самый простой вариант\n",
    "\n",
    "class MyException(Exception):\n",
    "    pass\n",
    "\n",
    "try:\n",
    "    raise MyException(\"My Exception\")\n",
    "except MyException as e:\n",
    "    print(e)"
   ]
  }
 ],
 "metadata": {
  "kernelspec": {
   "display_name": "Python 3",
   "language": "python",
   "name": "python3"
  },
  "language_info": {
   "codemirror_mode": {
    "name": "ipython",
    "version": 3
   },
   "file_extension": ".py",
   "mimetype": "text/x-python",
   "name": "python",
   "nbconvert_exporter": "python",
   "pygments_lexer": "ipython3",
   "version": "3.6.5"
  }
 },
 "nbformat": 4,
 "nbformat_minor": 2
}
