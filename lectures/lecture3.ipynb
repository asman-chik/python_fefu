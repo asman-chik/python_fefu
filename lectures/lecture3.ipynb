{
 "cells": [
  {
   "cell_type": "markdown",
   "metadata": {},
   "source": [
    "# Курс Python. Занятие 3. Работа с файлами разного формата"
   ]
  },
  {
   "cell_type": "markdown",
   "metadata": {},
   "source": [
    "# Содержание\n",
    "\n"
   ]
  },
  {
   "cell_type": "markdown",
   "metadata": {},
   "source": [
    "[Часть 1. Стандартная работа с файлами](#Часть-1.-Стандартная-работа-с-файлами)\n",
    "\n",
    "* [Встроенная функция open и ключевое слово with](#Встроенная-функция-open-и-ключевое-слово-with)\n",
    "* [Запись в файл](#Запись-в-файл)\n",
    "* [Чтение из файла](#Чтение-из-файла)\n",
    "* [Модуль работы с  файловой системой: os и os.path](#Модуль-работы-с--файловой-системой:-os-и-os.path)\n",
    "* [Модуль операций с файлами: shutil](#Модуль-операций-с-файлами:-shutil)\n",
    "\n",
    "[Часть 2. Работа с различными форматами файлов](#Часть-2.-Работа-с-различными-форматами-файлов)\n",
    "\n",
    "* [Формат Comma-Separated Values: csv](#Формат-Comma-Separated-Values:-csv\n",
    ")\n",
    "* [Формат JavaScript Object Notation: json](#Формат-JavaScript-Object-Notation:-json)\n",
    "* [Форматы архивных файлов: zip, gzip, tar](#Форматы-архивных-файлов:-zip,-gzip,-tar)\n",
    "* [Работа с изображениями](#Работа-с-изображениями)\n",
    "* [Формат HyperText Markup Language и eXtensible Markup Language: html и xml](#Формат-HyperText-Markup-Language-и-eXtensible-Markup-Language:-html-и-xml)\n",
    "* [Получение данных из Интернет: модуль requests](#Получение-данных-из-Интернет:-модуль-requests)\n",
    "\n",
    "[Часть 3. Практика](#Часть-3.-Практика)"
   ]
  },
  {
   "cell_type": "markdown",
   "metadata": {},
   "source": [
    "## Часть 1. Стандартная работа с файлами"
   ]
  },
  {
   "cell_type": "markdown",
   "metadata": {},
   "source": [
    "### Встроенная функция open и ключевое слово with"
   ]
  },
  {
   "cell_type": "markdown",
   "metadata": {},
   "source": [
    "Встроенная функция `open(file, mode='r', buffering=-1, encoding=None, errors=None, newline=None, closefd=True, opener=None)` служит для открытия указанного файла `file` (в общем случае - потока) в указанном режиме `mode` в соответствующей кодировке `encoding`. <br><br>\n",
    "По умолчанию файлы открываются в текстовом режиме на чтение в кодировке, являющейся кодировкой по умолчанию для операционной системы.<br><br>\n",
    "Ключевое слово `with` объявляет менеджер контекста, который обеспечивает обработку ошибок и правильное завершение работы с объектами в рамках контекста. Подробнее потом."
   ]
  },
  {
   "cell_type": "code",
   "execution_count": 1,
   "metadata": {},
   "outputs": [
    {
     "name": "stdout",
     "output_type": "stream",
     "text": [
      "<_io.TextIOWrapper name='workfile.txt' mode='w' encoding='cp1251'>\n",
      "<class '_io.TextIOWrapper'>\n",
      "['buffer', 'close', 'closed', 'detach', 'encoding', 'errors', 'fileno', 'flush', 'isatty', 'line_buffering', 'mode', 'name', 'newlines', 'read', 'readable', 'readline', 'readlines', 'reconfigure', 'seek', 'seekable', 'tell', 'truncate', 'writable', 'write', 'write_through', 'writelines']\n"
     ]
    }
   ],
   "source": [
    "# Работа с файлами курильщика\n",
    "\n",
    "f = open('workfile.txt', 'w')\n",
    "\n",
    "f.close()    # Файл обязательно нужно закрыть по завершении работы с ним\n",
    "\n",
    "print(f)\n",
    "print(type(f))\n",
    "print([s for s in dir(f) if not s.startswith('_')])"
   ]
  },
  {
   "cell_type": "code",
   "execution_count": 77,
   "metadata": {},
   "outputs": [
    {
     "data": {
      "text/plain": [
       "'1 2 one'"
      ]
     },
     "execution_count": 77,
     "metadata": {},
     "output_type": "execute_result"
    }
   ],
   "source": [
    "# Работа с файлами здорового человека\n",
    "\n",
    "with open('workfile.txt', 'w') as f:\n",
    "    f.write('Hello')\n"
   ]
  },
  {
   "cell_type": "markdown",
   "metadata": {},
   "source": [
    "Возможные режимы открытия файлов:\n",
    "- `'r'`\t- открытие на чтение (является значением по умолчанию).\n",
    "- `'w'`\t- открытие на запись, содержимое файла удаляется, если файла не существует, создается новый.\n",
    "- `'x'`\t- открытие на запись, если файла не существует, иначе исключение.\n",
    "- `'a'`\t- открытие на дозапись, информация добавляется в конец файла.\n",
    "- `'b'`\t- открытие в двоичном режиме.\n",
    "- `'t'`\t- открытие в текстовом режиме (является значением по умолчанию).\n",
    "- `'+'` - открытие на чтение и запись\n",
    "- а также их комбинации: `rt`, `rb`, `wb`, `ab` и т.д"
   ]
  },
  {
   "cell_type": "markdown",
   "metadata": {},
   "source": [
    "### Запись в файл"
   ]
  },
  {
   "cell_type": "code",
   "execution_count": 3,
   "metadata": {},
   "outputs": [],
   "source": [
    "# Зададим строчки в виде списка\n",
    "\n",
    "lines = [\n",
    "    'Line 1\\n',\n",
    "    'Line 2\\n',\n",
    "    'Line 3\\n',\n",
    "]\n",
    "\n",
    "# Итерируясь по списку запишем построчно\n",
    "\n",
    "with open('workfile.txt', 'wt') as f:\n",
    "    for line in lines:\n",
    "        f.write(line)"
   ]
  },
  {
   "cell_type": "code",
   "execution_count": 4,
   "metadata": {},
   "outputs": [],
   "source": [
    "# Запишем все строки стразу\n",
    "\n",
    "with open('workfile.txt', 'wt') as f:\n",
    "    f.writelines(lines)"
   ]
  },
  {
   "cell_type": "markdown",
   "metadata": {},
   "source": [
    "### Чтение из файла"
   ]
  },
  {
   "cell_type": "markdown",
   "metadata": {},
   "source": [
    "Есть 4 варианта чтения информации из файла:\n",
    "- метод `read(n)` читает указанное количество байт или файл целиком и возвращает строку\n",
    "- метод `readline()` читает очередную строку из файла и возвращает её (`''` - если достигнут конец файла)\n",
    "- метод `readlines(n)` читает указанное количество строк или все строки в список\n",
    "- использование переменной файла в цикле for (итерация по строкам файла)"
   ]
  },
  {
   "cell_type": "code",
   "execution_count": 5,
   "metadata": {},
   "outputs": [
    {
     "name": "stdout",
     "output_type": "stream",
     "text": [
      "<class 'str'>\n",
      "Line 1\n",
      "Line 2\n",
      "Line 3\n",
      "\n"
     ]
    }
   ],
   "source": [
    "# Метод read - читает указанное количество байт или весь файл целиком в строку\n",
    "\n",
    "with open('workfile.txt') as f:\n",
    "    \n",
    "    lines = f.read()\n",
    "    print(type(lines))\n",
    "    \n",
    "    print(lines)\n",
    "    "
   ]
  },
  {
   "cell_type": "code",
   "execution_count": 6,
   "metadata": {
    "scrolled": true
   },
   "outputs": [
    {
     "name": "stdout",
     "output_type": "stream",
     "text": [
      "Line 1\n",
      "\n",
      "Line 2\n",
      "\n",
      "Line 3\n",
      "\n",
      "\n"
     ]
    }
   ],
   "source": [
    "# Метод readline - читает очередную строку из файла\n",
    "\n",
    "with open('workfile.txt') as f:\n",
    "    \n",
    "    line = f.readline()\n",
    "    print(line)\n",
    "\n",
    "    while line:\n",
    "        line = f.readline()\n",
    "        print(line)"
   ]
  },
  {
   "cell_type": "code",
   "execution_count": 7,
   "metadata": {},
   "outputs": [
    {
     "name": "stdout",
     "output_type": "stream",
     "text": [
      "['Line 1\\n']\n"
     ]
    }
   ],
   "source": [
    "# Метод readlines - читает указанное количество строк и возвращает список из них\n",
    "\n",
    "with open('workfile.txt') as f:\n",
    "\n",
    "    lines = f.readlines(2)\n",
    "    print(lines)"
   ]
  },
  {
   "cell_type": "code",
   "execution_count": 8,
   "metadata": {},
   "outputs": [
    {
     "name": "stdout",
     "output_type": "stream",
     "text": [
      "Line 1\n",
      "\n",
      "Line 2\n",
      "\n",
      "Line 3\n",
      "\n"
     ]
    }
   ],
   "source": [
    "# Объект 'файл' является итератором\n",
    "\n",
    "with open('workfile.txt') as f:\n",
    "    \n",
    "    for line in f:\n",
    "        print(line)"
   ]
  },
  {
   "cell_type": "code",
   "execution_count": 9,
   "metadata": {},
   "outputs": [
    {
     "name": "stdout",
     "output_type": "stream",
     "text": [
      "['Line 1\\n', 'Line 2\\n', 'Line 3\\n']\n"
     ]
    }
   ],
   "source": [
    "# Или сразу в список\n",
    "\n",
    "with open('workfile.txt') as f:\n",
    "    \n",
    "    lines = list(f)\n",
    "    print(lines)"
   ]
  },
  {
   "cell_type": "markdown",
   "metadata": {},
   "source": [
    "### Модуль работы с  файловой системой: os и os.path"
   ]
  },
  {
   "cell_type": "markdown",
   "metadata": {},
   "source": [
    "os - встроенный модуль для работы с операционной системой и файловой системой на низком уровне<br>\n",
    "os.path - дополнительные инструменты для работы с путями<br><br>\n",
    "Все возможности модуля os - в [документации](https://docs.python.org/3/library/os.html)."
   ]
  },
  {
   "cell_type": "code",
   "execution_count": 10,
   "metadata": {},
   "outputs": [],
   "source": [
    "import os        # os.path импортируется тоже"
   ]
  },
  {
   "cell_type": "code",
   "execution_count": 11,
   "metadata": {},
   "outputs": [
    {
     "name": "stdout",
     "output_type": "stream",
     "text": [
      "nt\n",
      "D:\\_FORSSD\\Dropbox\\ДВФУ\\python_fefu\\lectures\n",
      "pikvic\n",
      "C:\\WINDOWS\\system32;C:\\WINDOWS;C:\\WINDOWS\\System32\\Wbem;C:\\WINDOWS\\System32\\WindowsPowerShell\\v1.0\\;C:\\Program Files\\Git\\cmd;C:\\Program Files\\TortoiseGit\\bin;C:\\WINDOWS\\System32\\OpenSSH\\;C:\\Program Files\\Microsoft VS Code\\bin;C:\\Program Files\\Intel\\WiFi\\bin\\;C:\\Program Files\\Common Files\\Intel\\WirelessCommon\\;C:\\Users\\pikvic\\Anaconda3\\Scripts;C:\\Users\\pikvic\\Anaconda3;C:\\Users\\pikvic\\Anaconda3;C:\\Users\\pikvic\\Anaconda3\\Library\\mingw-w64\\bin;C:\\Users\\pikvic\\Anaconda3\\Library\\usr\\bin;C:\\Users\\pikvic\\Anaconda3\\Library\\bin;C:\\Users\\pikvic\\Anaconda3\\Scripts;C:\\Users\\pikvic\\AppData\\Local\\Microsoft\\WindowsApps;C:\\Program Files\\Microsoft VS Code\\bin\n"
     ]
    }
   ],
   "source": [
    "# Получим название операционной системы\n",
    "\n",
    "print(os.name)\n",
    "\n",
    "# Текущую директорию\n",
    "\n",
    "print(os.getcwd())\n",
    "\n",
    "# Текущего пользователя\n",
    "\n",
    "print(os.getlogin())\n",
    "\n",
    "# Переменную среды path\n",
    "\n",
    "print(os.getenv('PATH'))\n",
    "\n",
    "# И т.д."
   ]
  },
  {
   "cell_type": "code",
   "execution_count": 12,
   "metadata": {
    "scrolled": false
   },
   "outputs": [
    {
     "name": "stdout",
     "output_type": "stream",
     "text": [
      "['$Recycle.Bin', '$WINRE_BACKUP_PARTITION.MARKER', 'Config.Msi', 'Documents and Settings', 'hiberfil.sys', 'Intel', 'mp3DirectCut', 'pagefile.sys', 'PerfLogs', 'Program Files', 'Program Files (x86)', 'ProgramData', 'Recovery', 'swapfile.sys', 'System Volume Information', 'Users', 'WebServers', 'Windows', 'Безымянный.jpg']\n"
     ]
    }
   ],
   "source": [
    "# os.listdir - список файлов и папок в указанной директории (дефол - текущая)\n",
    "\n",
    "print(os.listdir('C:'))"
   ]
  },
  {
   "cell_type": "code",
   "execution_count": 18,
   "metadata": {},
   "outputs": [
    {
     "name": "stdout",
     "output_type": "stream",
     "text": [
      "lecture0.ipynb\n",
      "lecture1.ipynb\n",
      "lecture2.ipynb\n",
      "lecture3.ipynb\n",
      "workfile.txt\n"
     ]
    }
   ],
   "source": [
    "# os.scandir - итератор по списку файлов и папок в указанной директории (дефолт - текущая)\n",
    "\n",
    "with os.scandir() as it:\n",
    "    for entry in it:\n",
    "        if not entry.name.startswith('.') and entry.is_file():\n",
    "            print(entry.name)"
   ]
  },
  {
   "cell_type": "code",
   "execution_count": 20,
   "metadata": {
    "scrolled": true
   },
   "outputs": [
    {
     "name": "stdout",
     "output_type": "stream",
     "text": [
      "os.stat_result(st_mode=16895, st_ino=1688849860376846, st_dev=2419595576, st_nlink=1, st_uid=0, st_gid=0, st_size=4096, st_atime=1543463581, st_mtime=1543463576, st_ctime=1543043029)\n"
     ]
    }
   ],
   "source": [
    "# os.stat - статистика файла или директории\n",
    "\n",
    "print(os.stat(os.getcwd()))"
   ]
  },
  {
   "cell_type": "code",
   "execution_count": null,
   "metadata": {
    "scrolled": true
   },
   "outputs": [],
   "source": [
    "# os.walk - рекурсивный список файлов и директорий\n",
    "\n",
    "for root, dirs, files in os.walk(os.ge):\n",
    "    print(root)\n",
    "    print(dirs)\n",
    "    print(files)\n",
    "    print('-'*80)\n",
    "`"
   ]
  },
  {
   "cell_type": "code",
   "execution_count": 14,
   "metadata": {},
   "outputs": [
    {
     "name": "stdout",
     "output_type": "stream",
     "text": [
      "D:\\_FORSSD\\Dropbox\\ДВФУ\\python_fefu\\lectures\\workfile.txt\n"
     ]
    }
   ],
   "source": [
    "# os.path - дополнительные функции для работы с путями и файлами\n",
    "\n",
    "path = os.getcwd()\n",
    "file = 'workfile.txt'\n",
    "\n",
    "# Основные функции\n",
    "\n",
    "# join - соединяет путь до файла и имя файла\n",
    "\n",
    "full_path = os.path.join(path, file)\n",
    "\n",
    "print(full_path)"
   ]
  },
  {
   "cell_type": "code",
   "execution_count": 15,
   "metadata": {},
   "outputs": [
    {
     "name": "stdout",
     "output_type": "stream",
     "text": [
      "D:\\_FORSSD\\Dropbox\\ДВФУ\\python_fefu\\lectures\n",
      "workfile.txt\n"
     ]
    }
   ],
   "source": [
    "# split - разделяет путь до файла на путь и имя\n",
    "\n",
    "path, file = os.path.split(full_path)\n",
    "\n",
    "print(path)\n",
    "print(file)"
   ]
  },
  {
   "cell_type": "code",
   "execution_count": 16,
   "metadata": {},
   "outputs": [
    {
     "name": "stdout",
     "output_type": "stream",
     "text": [
      "D:\\_FORSSD\\Dropbox\\ДВФУ\\python_fefu\\lectures\\workfile\n",
      ".txt\n"
     ]
    }
   ],
   "source": [
    "# splitext - разделяет путь с именем файла и расширение\n",
    "\n",
    "name, ext = os.path.splitext(full_path)\n",
    "\n",
    "print(name)\n",
    "print(ext)"
   ]
  },
  {
   "cell_type": "code",
   "execution_count": 17,
   "metadata": {},
   "outputs": [
    {
     "name": "stdout",
     "output_type": "stream",
     "text": [
      "24\n"
     ]
    }
   ],
   "source": [
    "# getsize - возвращает размер файла в байтах\n",
    "\n",
    "print(os.path.getsize(full_path))"
   ]
  },
  {
   "cell_type": "code",
   "execution_count": 18,
   "metadata": {},
   "outputs": [
    {
     "name": "stdout",
     "output_type": "stream",
     "text": [
      "False True\n"
     ]
    }
   ],
   "source": [
    "# isdir, isfile - говорят сами за себя\n",
    "\n",
    "print(os.path.isdir(full_path), os.path.isfile(full_path))"
   ]
  },
  {
   "cell_type": "code",
   "execution_count": 19,
   "metadata": {
    "scrolled": true
   },
   "outputs": [
    {
     "name": "stdout",
     "output_type": "stream",
     "text": [
      "D:\\_FORSSD\\Dropbox\\ДВФУ\\python_fefu\\lectures\n",
      "D:/_FORSSD/Dropbox/ДВФУ/python_fefu/lectures\\workfile.txt\n",
      "Line 1\n",
      "Line 2\n",
      "Line 3\n",
      "\n"
     ]
    }
   ],
   "source": [
    "# К вопросу о путях\n",
    "\n",
    "root = os.getcwd()\n",
    "print(root)\n",
    "\n",
    "new_root = root.replace('\\\\', '/')\n",
    "new_path = os.path.join(new_root, file)\n",
    "\n",
    "print(new_path)\n",
    "\n",
    "with open(new_path) as f:\n",
    "    print(f.read())"
   ]
  },
  {
   "cell_type": "markdown",
   "metadata": {},
   "source": [
    "### Модуль операций с файлами: shutil"
   ]
  },
  {
   "cell_type": "markdown",
   "metadata": {},
   "source": [
    "Модуль shutil содержит набор функций высокого уровня для обработки файлов, групп файлов, и папок. В частности, доступные здесь функции позволяют копировать, перемещать и удалять файлы и папки. Часто используется вместе с модулем os."
   ]
  },
  {
   "cell_type": "code",
   "execution_count": 20,
   "metadata": {},
   "outputs": [
    {
     "data": {
      "text/plain": [
       "'workfile_copy.txt'"
      ]
     },
     "execution_count": 20,
     "metadata": {},
     "output_type": "execute_result"
    }
   ],
   "source": [
    "import shutil\n",
    "\n",
    "# Например, копирование файла\n",
    "\n",
    "shutil.copy('workfile.txt', 'workfile_copy.txt')"
   ]
  },
  {
   "cell_type": "code",
   "execution_count": 21,
   "metadata": {},
   "outputs": [
    {
     "name": "stdout",
     "output_type": "stream",
     "text": [
      "['.ipynb_checkpoints', 'lecture0.ipynb', 'lecture1.ipynb', 'lecture2.ipynb', 'lecture3.ipynb', 'workfile.txt', 'workfile_copy.txt']\n",
      "Line 1\n",
      "Line 2\n",
      "Line 3\n",
      "\n"
     ]
    }
   ],
   "source": [
    "# Провеcрим результат\n",
    "\n",
    "print(os.listdir())\n",
    "\n",
    "with open('workfile_copy.txt') as f:\n",
    "    print(f.read())"
   ]
  },
  {
   "cell_type": "code",
   "execution_count": 22,
   "metadata": {},
   "outputs": [
    {
     "data": {
      "text/plain": [
       "'workfile_moved.txt'"
      ]
     },
     "execution_count": 22,
     "metadata": {},
     "output_type": "execute_result"
    }
   ],
   "source": [
    "# Перемещение файла - копирование с новым именем и удаление исходника\n",
    "\n",
    "shutil.move('workfile_copy.txt', 'workfile_moved.txt')"
   ]
  },
  {
   "cell_type": "code",
   "execution_count": 23,
   "metadata": {},
   "outputs": [
    {
     "name": "stdout",
     "output_type": "stream",
     "text": [
      "['.ipynb_checkpoints', 'lecture0.ipynb', 'lecture1.ipynb', 'lecture2.ipynb', 'lecture3.ipynb', 'workfile.txt', 'workfile_moved.txt']\n",
      "Line 1\n",
      "Line 2\n",
      "Line 3\n",
      "\n"
     ]
    }
   ],
   "source": [
    "# Проверим результат\n",
    "\n",
    "print(os.listdir())\n",
    "\n",
    "with open('workfile_moved.txt') as f:\n",
    "    print(f.read())"
   ]
  },
  {
   "cell_type": "markdown",
   "metadata": {},
   "source": [
    "## Часть 2. Работа с различными форматами файлов"
   ]
  },
  {
   "cell_type": "markdown",
   "metadata": {},
   "source": [
    "### Формат Comma-Separated Values: csv\n",
    "Формат файлов Comma-Separated Values (значения, разделённые запятыми) - один из самых популярных форматов хранения табличных данных. Для работы с файлами формата csv используется встроенный модуль csv.<br><br>\n",
    "На практике при работе с табличными данными используются более высокоуровневые пакеты и csv файлы (как и многие другие форматы) читаются с помощью них.<br><br>\n",
    "Подробнее о модуле csv - в [документации](https://docs.python.org/3/library/csv.html)."
   ]
  },
  {
   "cell_type": "code",
   "execution_count": 24,
   "metadata": {},
   "outputs": [],
   "source": [
    "# Импорт модуля и подготовка файла\n",
    "\n",
    "import csv\n",
    "\n",
    "csvdata = [\n",
    "    ['id','name','price'],\n",
    "    [1,'Geforce 2080ti',100500],\n",
    "    [2,'Geforce 1060',350],\n",
    "    [3,'Radeon 580',400],\n",
    "]    "
   ]
  },
  {
   "cell_type": "code",
   "execution_count": 26,
   "metadata": {},
   "outputs": [
    {
     "name": "stdout",
     "output_type": "stream",
     "text": [
      "id,name,price\n",
      "1,Geforce 2080ti,100500\n",
      "2,Geforce 1060,350\n",
      "3,Radeon 580,400\n",
      "\n"
     ]
    }
   ],
   "source": [
    "# Запишем данные в файл с помощью модуля. Для этого используем класс csv.writer.\n",
    "\n",
    "with open('pricelist.csv', 'wt', newline='') as f:\n",
    "    writer = csv.writer(f)\n",
    "    writer.writerows(csvdata)\n",
    "    \n",
    "# Проверим содержимое\n",
    "    \n",
    "with open('pricelist.csv') as f:\n",
    "    print(f.read())"
   ]
  },
  {
   "cell_type": "code",
   "execution_count": 35,
   "metadata": {
    "scrolled": true
   },
   "outputs": [
    {
     "name": "stdout",
     "output_type": "stream",
     "text": [
      "['id', 'name', 'price']\n",
      "['1', 'Geforce 2080ti', '100500']\n",
      "['2', 'Geforce 1060', '350']\n",
      "['3', 'Radeon 580', '400']\n",
      "['4', 'Radeon Vega', '100500']\n",
      "['4', 'Radeon Vega', '100500']\n",
      "[]\n",
      "['4', 'Radeon Vega', '100500']\n",
      "[]\n",
      "['4', 'Radeon Vega', '100500']\n"
     ]
    }
   ],
   "source": [
    "# Прочитаем данные - для этого создадим объект класса csv.reader\n",
    "\n",
    "with open('pricelist.csv') as f:\n",
    "    reader = csv.reader(f)\n",
    "    for row in reader:\n",
    "        print(row)"
   ]
  },
  {
   "cell_type": "code",
   "execution_count": 34,
   "metadata": {},
   "outputs": [],
   "source": [
    "# Добавим элемент в csv файл\n",
    "\n",
    "new_item = [4, 'Radeon Vega', 100500]\n",
    "\n",
    "with open('pricelist.csv', 'at', newline='') as f:\n",
    "    writer = csv.writer(f)\n",
    "    writer.writerow(new_item)"
   ]
  },
  {
   "cell_type": "markdown",
   "metadata": {},
   "source": [
    "### Формат JavaScript Object Notation: json"
   ]
  },
  {
   "cell_type": "markdown",
   "metadata": {},
   "source": [
    "JSON - текстовый формат файлов, созданный для удобства хранения разнообразной информации в виде упорядоченных коллекций значений (массивов) и/или именованных коллеций ключ:значение (словари). В качестве значений могут выступать следующие типы данных:\n",
    "* **Объект** — это неупорядоченное множество пар ключ:значение, заключённое в фигурные скобки «{ }». Ключ описывается строкой, между ним и значением стоит символ «:». Пары ключ-значение отделяются друг от друга запятыми\n",
    "* **Массив** (одномерный) — это упорядоченное множество значений. Массив заключается в квадратные скобки «[ ]». Значения разделяются запятыми\n",
    "* **Число**\n",
    "* **Литералы true, false и null**\n",
    "* **Строка** — это упорядоченное множество из нуля или более символов юникода, заключённое в двойные кавычки. Символы могут быть указаны с использованием escape-последовательностей, начинающихся с обратной косой черты «\\» (поддерживаются варианты \\', \\\", \\\\, \\/, \\t, \\n, \\r, \\f и \\b), или записаны шестнадцатеричным кодом в кодировке Unicode в виде \\uFFFF.\n",
    "<br><br>\n",
    "**Лучше один раз увидеть:**\n",
    "```\n",
    "{\n",
    "   \"firstName\": \"Иван\",\n",
    "   \"lastName\": \"Иванов\",\n",
    "   \"address\": {\n",
    "       \"streetAddress\": \"Московское ш., 101, кв.101\",\n",
    "       \"city\": \"Ленинград\",\n",
    "       \"postalCode\": \"101101\"\n",
    "   },\n",
    "   \"phoneNumbers\": [\n",
    "       \"812 123-1234\",\n",
    "       \"916 123-4567\"\n",
    "   ]\n",
    "}\n",
    "```\n",
    "\n",
    "В Питоне для работы с файлами в формате JSON есть встроенный модуль json."
   ]
  },
  {
   "cell_type": "code",
   "execution_count": 37,
   "metadata": {},
   "outputs": [],
   "source": [
    "# Импортируем модуль и задаём тестовые данные в виде словаря\n",
    "\n",
    "import json\n",
    "\n",
    "data_dict = {\n",
    "    \"firstName\": \"Иван\",\n",
    "    \"lastName\": \"Иванов\",\n",
    "    \"address\": {\n",
    "        \"streetAddress\": \"Московское ш., 101, кв.101\",\n",
    "        \"city\": \"Ленинград\",\n",
    "        \"postalCode\": \"101101\"\n",
    "    },\n",
    "    \"phoneNumbers\": [\n",
    "        \"812 123-1234\",\n",
    "        \"916 123-4567\"\n",
    "    ]\n",
    "}"
   ]
  },
  {
   "cell_type": "code",
   "execution_count": 38,
   "metadata": {},
   "outputs": [],
   "source": [
    "# Конвертируем словарь с данными в JSON и сохраним в файл\n",
    "\n",
    "with open('data.json', 'w') as f:\n",
    "    json.dump(data_dict, f)"
   ]
  },
  {
   "cell_type": "code",
   "execution_count": 39,
   "metadata": {},
   "outputs": [
    {
     "name": "stdout",
     "output_type": "stream",
     "text": [
      "{'firstName': 'Иван', 'lastName': 'Иванов', 'address': {'streetAddress': 'Московское ш., 101, кв.101', 'city': 'Ленинград', 'postalCode': '101101'}, 'phoneNumbers': ['812 123-1234', '916 123-4567']}\n"
     ]
    }
   ],
   "source": [
    "# Считываем JSON файл и конвертируем данные обратно в словарь\n",
    "\n",
    "with open('data.json') as f:\n",
    "    decoded = json.load(f)\n",
    "    print(decoded)"
   ]
  },
  {
   "cell_type": "code",
   "execution_count": 41,
   "metadata": {},
   "outputs": [
    {
     "data": {
      "text/plain": [
       "'{\"firstName\": \"\\\\u0418\\\\u0432\\\\u0430\\\\u043d\", \"lastName\": \"\\\\u0418\\\\u0432\\\\u0430\\\\u043d\\\\u043e\\\\u0432\", \"address\": {\"streetAddress\": \"\\\\u041c\\\\u043e\\\\u0441\\\\u043a\\\\u043e\\\\u0432\\\\u0441\\\\u043a\\\\u043e\\\\u0435 \\\\u0448., 101, \\\\u043a\\\\u0432.101\", \"city\": \"\\\\u041b\\\\u0435\\\\u043d\\\\u0438\\\\u043d\\\\u0433\\\\u0440\\\\u0430\\\\u0434\", \"postalCode\": \"101101\"}, \"phoneNumbers\": [\"812 123-1234\", \"916 123-4567\"]}'"
      ]
     },
     "execution_count": 41,
     "metadata": {},
     "output_type": "execute_result"
    }
   ],
   "source": [
    "# Можно работать как со строками\n",
    "\n",
    "json.dumps(data_dict)"
   ]
  },
  {
   "cell_type": "code",
   "execution_count": 45,
   "metadata": {
    "scrolled": true
   },
   "outputs": [
    {
     "name": "stdout",
     "output_type": "stream",
     "text": [
      "{'firstName': 'Иван', 'lastName': 'Иванов', 'address': {'streetAddress': 'Московское ш., 101, кв.101', 'city': 'Ленинград', 'postalCode': '101101'}, 'phoneNumbers': ['812 123-1234', '916 123-4567']}\n"
     ]
    }
   ],
   "source": [
    "with open('data.json') as f:\n",
    "    data_json = f.read()\n",
    "    print(json.loads(data_json))"
   ]
  },
  {
   "cell_type": "markdown",
   "metadata": {},
   "source": [
    "### Форматы архивных файлов: zip, gzip, tar"
   ]
  },
  {
   "cell_type": "code",
   "execution_count": 46,
   "metadata": {},
   "outputs": [],
   "source": [
    "import zipfile"
   ]
  },
  {
   "cell_type": "code",
   "execution_count": 47,
   "metadata": {},
   "outputs": [],
   "source": [
    "# Создание архива\n",
    "\n",
    "with zipfile.ZipFile('data.zip', 'w') as f:\n",
    "    f.write('data.json')"
   ]
  },
  {
   "cell_type": "code",
   "execution_count": 49,
   "metadata": {},
   "outputs": [
    {
     "name": "stdout",
     "output_type": "stream",
     "text": [
      "data.json\n",
      "{'firstName': 'Иван', 'lastName': 'Иванов', 'address': {'streetAddress': 'Московское ш., 101, кв.101', 'city': 'Ленинград', 'postalCode': '101101'}, 'phoneNumbers': ['812 123-1234', '916 123-4567']}\n"
     ]
    }
   ],
   "source": [
    "# Чтение архива\n",
    "\n",
    "with zipfile.ZipFile('data.zip') as fzip:\n",
    "    for file in fzip.filelist:\n",
    "        print(file.filename)\n",
    "        with fzip.open(file.filename) as f:\n",
    "            print(json.loads(f.read()))"
   ]
  },
  {
   "cell_type": "markdown",
   "metadata": {},
   "source": [
    "### Работа с изображениями"
   ]
  },
  {
   "cell_type": "markdown",
   "metadata": {},
   "source": [
    "Обработка изображений - отдельная большая область знаний, изучение которой требует отдельных курсов. Поэтому рассмотрим только основные операции на примерах.<br><br>\n",
    "Для Питона существует множество пакетов и модулей по работе с изображениями. Pillow (PIL) - одна из самых популярных, простых, но функциональных библиотек для работы с изображениями в Питоне."
   ]
  },
  {
   "cell_type": "code",
   "execution_count": 50,
   "metadata": {},
   "outputs": [],
   "source": [
    "# Скачаем файл с изображением\n",
    "import requests\n",
    "\n",
    "url  =  'https://www.python.org/static/img/python-logo@2x.png'\n",
    "\n",
    "response = requests.get(url)\n",
    "with open('python.png', 'wb') as f:\n",
    "    f.write(response.content)"
   ]
  },
  {
   "cell_type": "code",
   "execution_count": 51,
   "metadata": {},
   "outputs": [],
   "source": [
    "# Импортируем класс для работы с изображениями\n",
    "\n",
    "from PIL import Image\n",
    "\n",
    "# А это чтобы показывать изображения в ноутбуке\n",
    "\n",
    "from IPython.display import Image as Img, display\n"
   ]
  },
  {
   "cell_type": "code",
   "execution_count": 52,
   "metadata": {},
   "outputs": [
    {
     "name": "stdout",
     "output_type": "stream",
     "text": [
      "PNG (580, 164) RGBA\n"
     ]
    },
    {
     "data": {
      "image/png": "[encoded data removed]",
      "text/plain": [
       "<IPython.core.display.Image object>"
      ]
     },
     "metadata": {},
     "output_type": "display_data"
    }
   ],
   "source": [
    "# С помощью контекстного менеджера откроем изображение и выведем информацию о нём\n",
    "\n",
    "with Image.open('python.png') as im:\n",
    "    \n",
    "    print(im.format, im.size, im.mode)\n",
    "    \n",
    "    # Отобразим в ноутбуке\n",
    "\n",
    "    display(Img(filename='python.png'))\n",
    "    "
   ]
  },
  {
   "cell_type": "code",
   "execution_count": 54,
   "metadata": {},
   "outputs": [
    {
     "data": {
      "image/png": "[encoded data removed]",
      "text/plain": [
       "<IPython.core.display.Image object>"
      ]
     },
     "metadata": {},
     "output_type": "display_data"
    }
   ],
   "source": [
    "# Можно делать уменьшенные изображения\n",
    "\n",
    "im = Image.open('python.png')\n",
    "\n",
    "resized = im.resize((200, 200))\n",
    "\n",
    "resized.save('resized.png')\n",
    "\n",
    "# Отобразим в ноутбуке\n",
    "\n",
    "display(Img(filename='resized.png'))"
   ]
  },
  {
   "cell_type": "code",
   "execution_count": 55,
   "metadata": {
    "scrolled": true
   },
   "outputs": [
    {
     "data": {
      "image/png": "[encoded data removed]",
      "text/plain": [
       "<IPython.core.display.Image object>"
      ]
     },
     "metadata": {},
     "output_type": "display_data"
    }
   ],
   "source": [
    "# Поворот изображения\n",
    "\n",
    "rotated = im.rotate(18, expand=True)\n",
    "\n",
    "rotated.save('rotated.png')\n",
    "\n",
    "display(Img(filename='rotated.png'))"
   ]
  },
  {
   "cell_type": "code",
   "execution_count": 56,
   "metadata": {
    "scrolled": true
   },
   "outputs": [
    {
     "data": {
      "image/png": "[encoded data removed]",
      "text/plain": [
       "<IPython.core.display.Image object>"
      ]
     },
     "metadata": {},
     "output_type": "display_data"
    }
   ],
   "source": [
    "# Обрезка изображения\n",
    "\n",
    "box = (140, 20, 500, 180)\n",
    "\n",
    "cropped = im.crop(box)\n",
    "\n",
    "cropped.save('cropped.png')\n",
    "\n",
    "display(Img(filename='cropped.png'))"
   ]
  },
  {
   "cell_type": "code",
   "execution_count": 58,
   "metadata": {
    "scrolled": false
   },
   "outputs": [
    {
     "data": {
      "image/png": "[encoded data removed]",
      "text/plain": [
       "<IPython.core.display.Image object>"
      ]
     },
     "metadata": {},
     "output_type": "display_data"
    }
   ],
   "source": [
    "# Изменять изображения (например, наносить текст)\n",
    "\n",
    "from PIL import ImageDraw, ImageFont\n",
    "\n",
    "draw = ImageDraw.Draw(im)\n",
    "\n",
    "font = ImageFont.truetype('arial.ttf', size=50)\n",
    "\n",
    "draw.text((100, 100), 'Python', (0, 0, 0), font=font)\n",
    "\n",
    "im.save('drawn.png')\n",
    "\n",
    "display(Img(filename='drawn.png'))"
   ]
  },
  {
   "cell_type": "markdown",
   "metadata": {},
   "source": [
    "### Формат HyperText Markup Language и eXtensible Markup Language: html и xml"
   ]
  },
  {
   "cell_type": "markdown",
   "metadata": {},
   "source": [
    "HTML и XML - языки разметки, определяющие структуру, параметры и/или внешнее представление документа. Разметка - это иерархическа структура элементов - \"тегов\" - которые написаны по определённым правилам.<br><br>\n",
    "Файлы в формате HTML и XML - просто текстовые файлы. Однако получение иерархии тегов с их свойстами - нетривиальна задача. Поскольку html и xml имеют общие правила разметки, то для их разбора в Питоне используется, в частности, **модуль bs4** (от BeautifulSoup 4).\n",
    "\n",
    "**Примеры файлов:**\n",
    "* **HTML**\n",
    "```\n",
    "<!DOCTYPE html>\n",
    "<html>\n",
    "   <head>\n",
    "      <meta charset=\"utf-8\" />\n",
    "      <title>HTML Document</title>\n",
    "   </head>\n",
    "   <body>\n",
    "      <p>\n",
    "         <b>\n",
    "            Этот текст будет полужирным, <i>а этот — ещё и курсивным</i>.\n",
    "         </b>\n",
    "      </p>\n",
    "   </body>\n",
    "</html>\n",
    "```\n",
    "* **XML**\n",
    "```\n",
    "<?xml version=\"1.0\" encoding=\"utf-8\"?>\n",
    "<!DOCTYPE recipe>\n",
    "<recipe name=\"хлеб\" preptime=\"5min\" cooktime=\"180min\">\n",
    "   <title>\n",
    "      Простой хлеб\n",
    "   </title>\n",
    "   <composition>\n",
    "      <ingredient amount=\"3\" unit=\"стакан\">Мука</ingredient>\n",
    "      <ingredient amount=\"0.25\" unit=\"грамм\">Дрожжи</ingredient>\n",
    "      <ingredient amount=\"1.5\" unit=\"стакан\">Тёплая вода</ingredient>\n",
    "   </composition>\n",
    "   <instructions>\n",
    "     <step>\n",
    "        Смешать все ингредиенты и тщательно замесить. \n",
    "     </step>\n",
    "     <step>\n",
    "        Закрыть тканью и оставить на один час в тёплом помещении. \n",
    "     </step>\n",
    "     <step>\n",
    "        Замесить ещё раз, положить на противень и поставить в духовку.\n",
    "     </step>\n",
    "   </instructions>\n",
    "</recipe>\n",
    "```\n"
   ]
  },
  {
   "cell_type": "code",
   "execution_count": 59,
   "metadata": {},
   "outputs": [],
   "source": [
    "# Импортируем модуль и рассмотрим на примере html (с xml всё то же)\n",
    " \n",
    "from bs4 import BeautifulSoup\n",
    "\n",
    "html_doc = \"\"\"\n",
    "<html><head><title>The Dormouse's story</title></head>\n",
    "<body>\n",
    "<p class=\"title\"><b>The Dormouse's story</b></p>\n",
    "\n",
    "<p class=\"story\">Once upon a time there were three little sisters; and their names were\n",
    "<a href=\"http://example.com/elsie\" class=\"sister\" id=\"link1\">Elsie</a>,\n",
    "<a href=\"http://example.com/lacie\" class=\"sister\" id=\"link2\">Lacie</a> and\n",
    "<a href=\"http://example.com/tillie\" class=\"sister\" id=\"link3\">Tillie</a>;\n",
    "and they lived at the bottom of a well.</p>\n",
    "\n",
    "<p class=\"story\">...</p>\n",
    "\"\"\""
   ]
  },
  {
   "cell_type": "code",
   "execution_count": 60,
   "metadata": {},
   "outputs": [],
   "source": [
    "# Создаём объект BeautifulSoup, который содержит иерархическую структуру html тегов\n",
    "\n",
    "soup = BeautifulSoup(html_doc, 'html.parser')"
   ]
  },
  {
   "cell_type": "code",
   "execution_count": 61,
   "metadata": {},
   "outputs": [
    {
     "name": "stdout",
     "output_type": "stream",
     "text": [
      "<a class=\"sister\" href=\"http://example.com/elsie\" id=\"link1\">Elsie</a> <class 'bs4.element.Tag'>\n",
      "http://example.com/elsie\n",
      "Elsie\n",
      "<a class=\"sister\" href=\"http://example.com/lacie\" id=\"link2\">Lacie</a> <class 'bs4.element.Tag'>\n",
      "http://example.com/lacie\n",
      "Lacie\n",
      "<a class=\"sister\" href=\"http://example.com/tillie\" id=\"link3\">Tillie</a> <class 'bs4.element.Tag'>\n",
      "http://example.com/tillie\n",
      "Tillie\n"
     ]
    }
   ],
   "source": [
    "# Выберем все теги <a></a> - получим список объектов-тегов\n",
    "\n",
    "links = soup.select('a')\n",
    "\n",
    "# Пройдём по списку и распечатаем объекты теги, их тип и значение атрибута href\n",
    "\n",
    "for link in links:\n",
    "    print(link, type(link))\n",
    "    print(link['href'])\n",
    "    print(link.text)\n",
    "    "
   ]
  },
  {
   "cell_type": "code",
   "execution_count": 65,
   "metadata": {},
   "outputs": [],
   "source": [
    "# Другой пакет для парсинга html и xml - lxml\n",
    "\n",
    "from lxml import html\n",
    "\n",
    "tree = html.fromstring(html_doc)"
   ]
  },
  {
   "cell_type": "code",
   "execution_count": 66,
   "metadata": {},
   "outputs": [
    {
     "name": "stdout",
     "output_type": "stream",
     "text": [
      "['Elsie', 'Lacie', 'Tillie']\n"
     ]
    }
   ],
   "source": [
    "# Он использует язык XPath\n",
    "\n",
    "links = tree.xpath('//a/text()')\n",
    "print(links)"
   ]
  },
  {
   "cell_type": "markdown",
   "metadata": {},
   "source": [
    "### Получение данных из Интернет: модуль requests"
   ]
  },
  {
   "cell_type": "code",
   "execution_count": 67,
   "metadata": {},
   "outputs": [],
   "source": [
    "import requests"
   ]
  },
  {
   "cell_type": "code",
   "execution_count": 68,
   "metadata": {},
   "outputs": [
    {
     "name": "stdout",
     "output_type": "stream",
     "text": [
      "<Response [200]>\n",
      "<!DOCTYPE html PUBLIC \"-//W3C//DTD XHTML 1.0 Transitional//EN\" \"http://www.w3.org/TR/xhtml1/DTD/xhtml1-transitional.dtd\"><html class=\"is-responsive\" xmlns=\"http://www.w3.org/1999/xhtml\" xmlns:og=\"http://ogp.me/ns#\"><head><meta http-equiv=\"Content-Type\" content=\"text/html; charset=windows-1251\" /><title>Новости Владивостока на VL.ru</title><meta name=\"description\" content=\"Новости Владивостока и Приморского края. Фото и видеорепортажи.\" /><meta name=\"keywords\" content=\",новости сегодня,последние новости,новости дня,бизнес новости,новости онлайн,новости владивосток фото,новости приморья\"/><meta name=\"yandex-verification\" content=\"8058960f1f85b9d6\" /> <meta name=\"yandex-verification\" content=\"58c0aba208539cf9\" /> <meta name=\"google-site-verification\" content=\"ozgDbND74hDl6cyxKP071qkJJoOdrG-IcKSbaKrIRhY\" /> <meta name=\"google-site-verification\" content=\"uL4gMb2BZTmwVeXbB30DAXIHT7w5MeuGtOjiyEeDtl4\" /> <meta name=\"candy.config\" content='{\"id\":9,\"geoc\":4,\"geor\":25,\"b\":1,\"bc\":1}'> <meta name=\"\n"
     ]
    }
   ],
   "source": [
    "url = 'https://newsvl.ru'\n",
    "response = requests.get(url)\n",
    "\n",
    "print(response)\n",
    "print(response.text[:1000])"
   ]
  },
  {
   "cell_type": "code",
   "execution_count": 82,
   "metadata": {
    "scrolled": false
   },
   "outputs": [
    {
     "name": "stdout",
     "output_type": "stream",
     "text": [
      "<a href=\"/vlad/2018/11/29/175829/\" title=\"Pizza Prosto угостит жителей Владивостока пиццей «Пепперони» всего за 99 рублей\">Pizza Prosto угостит жителей Владивостока пиццей «Пепперони» всего за 99 рублей</a>\n",
      "<a href=\"/vlad/2018/11/29/175829/\" title=\"Pizza Prosto угостит жителей Владивостока пиццей «Пепперони» всего за 99 рублей\">Pizza Prosto угостит жителей Владивостока пиццей «Пепперони» всего за 99 рублей</a> <class 'str'>\n",
      "<a href=\"/sport/2018/11/29/175923/\" title=\"Училище олимпийского резерва могут перенести с «Молодежной» на Русский, а беговую дорожку вдоль озера Юность – передать в краевую собственность\">Училище олимпийского резерва могут перенести с «Молодежной» на Русский, а беговую дорожку вдоль озера Юность – передать в краевую собственность</a> <class 'str'>\n",
      "<a href=\"/vlad/2018/11/29/175921/\" title=\"Администрация Владивостока снова разрешила строить жилой комплекс на землях ДВО РАН\">Администрация Владивостока снова разрешила строить жилой комплекс на землях ДВО РАН</a> <class 'str'>\n",
      "<a href=\"/vlad/2018/11/29/175920/\" title=\"Перевозчиков во Владивостоке в этом году оштрафовали на 1,5 млн рублей за грязные автобусы и несоблюдение графиков движения\">Перевозчиков во Владивостоке в этом году оштрафовали на 1,5 млн рублей за грязные автобусы и несоблюдение графиков движения</a> <class 'str'>\n",
      "<a href=\"/vlad/2018/11/29/175903/\" title=\"Вывозимые за пределы Дальнего Востока автомобили должны быть оборудованы ЭРА-ГЛОНАСС — «Автолэнд»\">Вывозимые за пределы Дальнего Востока автомобили должны быть оборудованы ЭРА-ГЛОНАСС — «Автолэнд»</a> <class 'str'>\n",
      "<a href=\"/vlad/2018/11/29/175917/\" title=\"В первые дни зимы во Владивостоке ожидаются плюсовые температуры\">В первые дни зимы во Владивостоке ожидаются плюсовые температуры</a> <class 'str'>\n"
     ]
    }
   ],
   "source": [
    "soup = BeautifulSoup(response.text, 'html.parser')\n",
    "\n",
    "news = soup.select('h4.story-list__item-title > a')\n",
    "print(news[0])\n",
    "for item in news:\n",
    "    print(item, type(item.text))"
   ]
  },
  {
   "cell_type": "code",
   "execution_count": 74,
   "metadata": {},
   "outputs": [
    {
     "name": "stdout",
     "output_type": "stream",
     "text": [
      "Pizza Prosto угостит жителей Владивостока пиццей «Пепперони» всего за 99 рублей\n",
      "Училище олимпийского резерва могут перенести с «Молодежной» на Русский, а беговую дорожку вдоль озера Юность – передать в краевую собственность\n"
     ]
    }
   ],
   "source": [
    "tree = html.fromstring(response.text)\n",
    "\n",
    "news = tree.xpath('//h4[@class=\"story-list__item-title\"]/a/text()')\n",
    "\n",
    "for item in news:\n",
    "    print(item)"
   ]
  },
  {
   "cell_type": "markdown",
   "metadata": {},
   "source": [
    "## Часть 3. Практика"
   ]
  },
  {
   "cell_type": "markdown",
   "metadata": {},
   "source": [
    "В качестве практики позанимаемся парсингом веб-страниц (извлечением нужной информации из них). Эта задача часто возникает на практике, когда в автоматическом режиме необходимо добыть большое количество структурированной информации из источников, не предназначенных для этого.<br><br>\n",
    "Результаты парсинга обычно сохраняют в файл (например, csv) или в базу данных. Мы будем сохранять в csv."
   ]
  },
  {
   "cell_type": "code",
   "execution_count": null,
   "metadata": {},
   "outputs": [],
   "source": [
    "# Практика - парсинг сайта\n",
    "\n"
   ]
  }
 ],
 "metadata": {
  "kernelspec": {
   "display_name": "Python 3",
   "language": "python",
   "name": "python3"
  },
  "language_info": {
   "codemirror_mode": {
    "name": "ipython",
    "version": 3
   },
   "file_extension": ".py",
   "mimetype": "text/x-python",
   "name": "python",
   "nbconvert_exporter": "python",
   "pygments_lexer": "ipython3",
   "version": "3.7.0"
  }
 },
 "nbformat": 4,
 "nbformat_minor": 2
}
