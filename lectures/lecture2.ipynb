{
 "cells": [
  {
   "cell_type": "markdown",
   "metadata": {},
   "source": [
    "# Курс Python. Занятие 2. Коллекции, функции, пакеты"
   ]
  },
  {
   "cell_type": "markdown",
   "metadata": {},
   "source": [
    "# Содержание\n",
    "\n",
    "[Часть 1. Встроенные типы и структуры данных. Продолжение](#Часть-1.-Встроенные-типы-и-структуры-данных.-Продолжение)\n",
    "\n",
    "* [Встроенный тип данных множество: set](#Встроенный-тип-данных-множество:-set)\n",
    "* [Операции с множествами](#Операции-с-множествами)\n",
    "* [Хэшируемость объектов: hashable objects](#Хэшируемость-объектов:-hashable-objects)\n",
    "* [Встроенный тип словарь: dict](#Встроенный-тип-словарь:-dict)\n",
    "* [Операции со словарями](#Операции-со-словарями)\n",
    "* [\"Списковые включения\": list comprehension](#\"Списковые-включения\":-list-comprehension)\n",
    "* [Dict, set comprehension](#Dict,-set-comprehension)\n",
    "* [Выражения-генераторы: generator expressions](#Выражения-генераторы:-generator-expressions)\n",
    "* [Встроенные функции all и any](#Встроенные-функции-all-и-any)\n",
    "* [Ключевое слово del](#Ключевое-слово-del)\n",
    "* [Встроенная функция zip](#Встроенная-функция-zip)\n",
    "\n",
    "[Часть 2. Функции и области видимости](#Часть-2.-Функции-и-области-видимости)\n",
    "\n",
    "* [Синтаксис объявления функций](#Синтаксис-объявления-функций)\n",
    "* [Синтаксис аргументов функций](#Синтаксис-аргументов-функций)\n",
    "* [Функции с переменным количеством аргументов: операторы `*` и `**`](#Функции-с-переменным-количеством-аргументов:-операторы-*-и-**)\n",
    "* [Документирование функций: docstring](#Документирование-функций:-docstring)\n",
    "* [Области видимости функций: LEGB](#Области-видимости-функций:-LEGB)\n",
    "* [Аннотации типов](#Аннотации-типов)\n",
    "* [Фунции, как объекты первого порядка: first-order objects](#Фунции,-как-объекты-первого-порядка:-first-order-objects)\n",
    "* [Лямбда-выражения: lambda expressions](#Лямбда-выражения:-lambda-expressions)\n",
    "* [Встроенные функции map и filter](#Встроенные-функции-map-и-filter)\n",
    "* [Встроенные функции min, max, sorted](#Встроенные-функции-min,-max,-sorted)\n",
    "* [Функции-генераторы: generator functions](#Функции-генераторы:-generator-functions)\n",
    "\n",
    "[Часть 3. Модули и пакеты](#Часть-3.-Модули-и-пакеты)\n",
    "\n",
    "* [Модули и ключевое слово import](#Модули-и-ключевое-слово-import)\n",
    "* [Объединение модулей в пакеты](#Объединение-модулей-в-пакеты)\n",
    "* [Встроенная функция dir](#Встроенная-функция-dir)\n",
    "\n",
    "[Часть 4. Закрепление материала](#Часть-4.-Закрепление-материала)\n",
    "\n",
    "* [Задача 1. Счётчик слов в тексте](#Задача-1.-Счётчик-слов-в-тексте)\n",
    "* [Задача 2. Закрепление comprehensions](#Задача-2.-Закрепление-comprehensions)\n",
    "* [Задача 3. Закрепление функций](#Задача-3.-Закрепление-функций)"
   ]
  },
  {
   "cell_type": "markdown",
   "metadata": {},
   "source": [
    "## Часть 1. Встроенные типы и структуры данных. Продолжение"
   ]
  },
  {
   "cell_type": "markdown",
   "metadata": {},
   "source": [
    "### Встроенный тип данных множество: set"
   ]
  },
  {
   "cell_type": "code",
   "execution_count": null,
   "metadata": {},
   "outputs": [],
   "source": [
    "# Неупорядоченная коллекция, содержащая только уникальные элементы\n",
    "\n",
    "# Синтаксис - фигурные скобки. Обратите внимание - уникальные элементы. Дубликаты игнорируются.\n",
    "\n",
    "a_set = {1, 2, 3, 4, 4} \n",
    "\n",
    "print( a_set, type(a_set), id(a_set) )\n",
    "\n",
    "# Пустое множество (только так)\n",
    "\n",
    "a_set = set() \n",
    "\n",
    "# Множество из разных типов объектов\n",
    "print( {2, 'h', (3, 5)})"
   ]
  },
  {
   "cell_type": "markdown",
   "metadata": {},
   "source": [
    "### Операции с множествами"
   ]
  },
  {
   "cell_type": "code",
   "execution_count": null,
   "metadata": {
    "scrolled": true
   },
   "outputs": [],
   "source": [
    "a_set = {1, 2, 3 ,4}\n",
    "b_set = {3, 2}\n",
    "\n",
    "# Количество элементов в множестве\n",
    "\n",
    "print( len(a_set) )\n",
    "\n",
    "# Проверка наличия элемента в множестве\n",
    "\n",
    "print( 2 in a_set )\n",
    "print( 7 not in a_set )\n",
    "\n",
    "# Проверка на подмножество\n",
    "\n",
    "print( a_set <= b_set )\n",
    "print( a_set > b_set )\n",
    "\n",
    "# Объединение множеств (логическое ИЛИ), обратите внимание - один символ |\n",
    "\n",
    "print( a_set | b_set )\n",
    "\n",
    "# Пересечение множеств (логическое И)\n",
    "\n",
    "print( a_set & b_set )\n",
    "\n",
    "# Разность множеств. Порядок имеет значение!\n",
    "\n",
    "print( a_set - b_set )\n",
    "print( b_set - a_set )\n",
    "\n",
    "# Множество set - объект, поэтому имеет методы\n",
    "\n",
    "# Добавление элемента в множество. Добавление дубликата не влияет на множество.\n",
    "\n",
    "a_set.add(7)\n",
    "\n",
    "a_set.remove(4)\n",
    "\n",
    "print(a_set)"
   ]
  },
  {
   "cell_type": "markdown",
   "metadata": {},
   "source": [
    "### Хэшируемость объектов: hashable objects"
   ]
  },
  {
   "cell_type": "code",
   "execution_count": null,
   "metadata": {},
   "outputs": [],
   "source": [
    "# hash - встроенная функция, которая вычисляет уникальное целое число для разных значений разных типов\n",
    "\n",
    "s = 'hello'\n",
    "print( hash('hello'), hash(s) )\n",
    "\n",
    "# хэшируемость объектов ГАРАНТИРУЕТ УНИКАЛЬНОСТЬ значений\n",
    "# поэтому множества могут быть составлены только из хэшируемых объектов\n",
    "\n",
    "# значения всех неизменяемых типов - хэшируемы\n",
    "\n",
    "print( hash( (2, 3) ) )\n",
    "\n",
    "# значения изменяемых типов - не хэшируемы\n",
    "\n",
    "print( hash( ([2, 3], ) ) )"
   ]
  },
  {
   "cell_type": "markdown",
   "metadata": {},
   "source": [
    "### Встроенный тип словарь: dict"
   ]
  },
  {
   "cell_type": "code",
   "execution_count": null,
   "metadata": {},
   "outputs": [],
   "source": [
    "# Словарь - специальная коллекция, где каждый элемент является парой \"ключ: значение\"\n",
    "# Ключ - обязательно хэшируемый объект\n",
    "# Значение - любой объект\n",
    "\n",
    "# Используется для быстрого доступа к элементам коллекции по ключу\n",
    "\n",
    "# Синтаксис - {key: value, key:value, ...}\n",
    "\n",
    "# Пустой словарь\n",
    "\n",
    "a_dict = {}\n",
    "a_dict = dict()\n",
    "\n",
    "# Задание элементов словаря - пар ключ:значение\n",
    "\n",
    "# С помощью функции приведения к типу dict\n",
    "\n",
    "a_dict = dict(one=1, two=2)\n",
    "print( a_dict )\n",
    "\n",
    "# С помощью фигурных скобок в одну строчку\n",
    "\n",
    "a_dict = {'one': 1, 'two': 2}\n",
    "print( a_dict )\n",
    "\n",
    "# С помощью фигурных скобок в несколько строк ( запятую в конце можно ставить, можно не ставить )\n",
    "\n",
    "a_dict = {\n",
    "    'one': 1,\n",
    "    'two': 2,\n",
    "}\n",
    "\n",
    "print( a_dict )\n",
    "\n",
    "# С помощью функции dict, где в качестве аргумента список кортежей из пар ключ, значение\n",
    "\n",
    "a_dict = dict( [ ('one', 1), ('two', 2) ] )\n",
    "\n",
    "print( a_dict )"
   ]
  },
  {
   "cell_type": "markdown",
   "metadata": {},
   "source": [
    "### Операции со словарями"
   ]
  },
  {
   "cell_type": "code",
   "execution_count": null,
   "metadata": {},
   "outputs": [],
   "source": [
    "a_dict = {'one': 1, 'two': 2, 'three': 3}\n",
    "\n",
    "# Обращение к элементу словаря по ключу. Если ключа нет - KeyError\n",
    "\n",
    "print( a_dict['two'] )\n",
    "\n",
    "# Присвоение значения по ключу. Если ключа нет, он добавится в словарь\n",
    "\n",
    "a_dict['four'] = 4\n",
    "\n",
    "print( a_dict )\n",
    "\n",
    "# Длина словаря\n",
    "\n",
    "print( len(a_dict) )\n",
    "\n",
    "# Проверка на наличие ключа в словаре\n",
    "\n",
    "print( 'one' in a_dict )\n",
    "print( 1 not in a_dict )\n",
    "\n",
    "# Обращение к элементу без ошибки KeyError. a_dict.get(key, [default])\n",
    "\n",
    "print( a_dict.get('one') )\n",
    "print( a_dict.get('ten') )\n",
    "print( a_dict.get('ten', 10) )\n",
    "\n",
    "# Получение списка ключей, значений, пар ключей-значений\n",
    "\n",
    "print( a_dict.keys() )\n",
    "print( a_dict.values() )\n",
    "print( a_dict.items() )\n",
    "\n",
    "# Использование в цикле. По умолчанию итерирование по ключам!\n",
    "\n",
    "for key in a_dict:\n",
    "    print(key)\n",
    "\n",
    "# Чтобы итерироваться по значениям или ключам-значениям, нужно использовать методы выше\n",
    "\n",
    "for key, value in a_dict.items():\n",
    "    print( key, value )"
   ]
  },
  {
   "cell_type": "markdown",
   "metadata": {},
   "source": [
    "### \"Списковые включения\": list comprehension"
   ]
  },
  {
   "cell_type": "code",
   "execution_count": null,
   "metadata": {},
   "outputs": [],
   "source": [
    "# list comprehension - специальный синтаксис создания списков\n",
    "\n",
    "# Обычный способ создания списка чисел от 1 до 5 в квадрате\n",
    "a = []\n",
    "for x in range(1, 6):\n",
    "    a.append(x**2)\n",
    "    \n",
    "print(a)\n",
    "\n",
    "# С использованием list comprehension\n",
    "\n",
    "a = [ x**2 for x in range(1, 6) ]\n",
    "\n",
    "print(a)"
   ]
  },
  {
   "cell_type": "code",
   "execution_count": null,
   "metadata": {},
   "outputs": [],
   "source": [
    "# создание списка с условием\n",
    "\n",
    "# Возвести в квадрат только чётные числа от 1 до 5\n",
    "\n",
    "a = []\n",
    "for x in range(1, 6):\n",
    "    if x % 2 == 0: \n",
    "        a.append(x**2)\n",
    "    \n",
    "print(a)\n",
    "\n",
    "# С помощью list comprehension (берёт только те элементы из коллекции, которые удовлетворяют условию)\n",
    "\n",
    "a = [ x**2 for x in range(1, 6) if x % 2 == 0 ]\n",
    "    \n",
    "print(a)"
   ]
  },
  {
   "cell_type": "markdown",
   "metadata": {},
   "source": [
    "### Dict, set comprehension"
   ]
  },
  {
   "cell_type": "code",
   "execution_count": null,
   "metadata": {},
   "outputs": [],
   "source": [
    "# Механизм comprehension работает и со словарями\n",
    "\n",
    "key_values = [ ('1', 1), ('2', 2), ('3', 3) ]\n",
    "\n",
    "a_dict = { key:value for (key, value) in key_values if value < 3 }\n",
    "\n",
    "print( a_dict )"
   ]
  },
  {
   "cell_type": "code",
   "execution_count": null,
   "metadata": {},
   "outputs": [],
   "source": [
    "# И с множествами (тоже фигурные скобки, но без двоеточия)\n",
    "\n",
    "a_set = { x**2 for x in range(1, 6) }\n",
    "\n",
    "print( a_set )"
   ]
  },
  {
   "cell_type": "code",
   "execution_count": null,
   "metadata": {},
   "outputs": [],
   "source": [
    "# Пример: объединение двух словарей\n",
    "dict1 = {'1': 1, '2': 2}\n",
    "dict2 = {'3': 3, '4': 4}\n",
    "\n",
    "merged_dict = {k: v for d in (dict1, dict2) for k, v in d.items()}\n",
    "\n",
    "print(dict1)\n",
    "print(dict2)\n",
    "print(merged_dict)"
   ]
  },
  {
   "cell_type": "markdown",
   "metadata": {},
   "source": [
    "### Выражения-генераторы: generator expressions"
   ]
  },
  {
   "cell_type": "code",
   "execution_count": null,
   "metadata": {},
   "outputs": [],
   "source": [
    "# List, dict, set comprehensions создают в памяти объект со всеми элементами\n",
    "\n",
    "# Иногда нам нужно только итерироваться по ним (как с функцией range)\n",
    "\n",
    "for x in (x**2 for x in range(1, 6) if x % 2 == 0):\n",
    "    print(x)\n",
    "    \n",
    "print( sum(x**2 for x in range(1, 6) if x % 2 == 0) )"
   ]
  },
  {
   "cell_type": "markdown",
   "metadata": {},
   "source": [
    "### Встроенные функции all и any"
   ]
  },
  {
   "cell_type": "code",
   "execution_count": null,
   "metadata": {},
   "outputs": [],
   "source": [
    "# all и any - аналог and и or для коллекций целиком. элементы коллекции приводятся к типу bool\n",
    "\n",
    "a = list( range(5) )\n",
    "\n",
    "print(a)\n",
    "print( 'Все элементы истинны?', all(a) )\n",
    "print( 'Хоть один элемент истинный?', any(a) )"
   ]
  },
  {
   "cell_type": "markdown",
   "metadata": {},
   "source": [
    "### Ключевое слово del"
   ]
  },
  {
   "cell_type": "code",
   "execution_count": null,
   "metadata": {},
   "outputs": [],
   "source": [
    "# del - ключевое слово для удаления значения переменной и самой переменной\n",
    "# основное применение - удаление элементов коллекций и освобождение памяти\n",
    "\n",
    "a_int = 10\n",
    "\n",
    "a_list = [1, 2, 3]\n",
    "\n",
    "print( a_list ) \n",
    "\n",
    "# Удаление элемента списка\n",
    "\n",
    "del a_list[1:]\n",
    "\n",
    "print( a_list ) \n",
    "\n",
    "# Удаление переменной\n",
    "\n",
    "del a_int\n",
    "\n",
    "print( a_int ) "
   ]
  },
  {
   "cell_type": "markdown",
   "metadata": {},
   "source": [
    "### Встроенная функция zip"
   ]
  },
  {
   "cell_type": "code",
   "execution_count": null,
   "metadata": {},
   "outputs": [],
   "source": [
    "# zip - встроенная функция, создаёт кортежи из i-х элементов коллекций\n",
    "\n",
    "a = list(range(1, 3))\n",
    "b = list(range(3, 5))\n",
    "\n",
    "c = list( zip(a, b) )\n",
    "\n",
    "print(a)\n",
    "print(b)\n",
    "print(c)"
   ]
  },
  {
   "cell_type": "code",
   "execution_count": null,
   "metadata": {},
   "outputs": [],
   "source": [
    "# если длина коллекций разная, то i ограничено длиной самой короткой коллекции\n",
    "\n",
    "a = list(range(2))\n",
    "b = list(range(3))\n",
    "c = list(range(4))\n",
    "\n",
    "d = list( zip(a, b, c) )\n",
    "\n",
    "print(a)\n",
    "print(b)\n",
    "print(c)\n",
    "print(d)"
   ]
  },
  {
   "cell_type": "markdown",
   "metadata": {},
   "source": [
    "## Часть 2. Функции и области видимости"
   ]
  },
  {
   "cell_type": "markdown",
   "metadata": {},
   "source": [
    "### Синтаксис объявления функций"
   ]
  },
  {
   "cell_type": "code",
   "execution_count": null,
   "metadata": {},
   "outputs": [],
   "source": [
    "# def - ключевое слово для объявления функций\n",
    "\n",
    "# Пример синтаксиса\n",
    "\n",
    "def print_arguments(argument1, argument2):\n",
    "    print(argument1, argument2)\n",
    "\n",
    "# Вызов функции - как обычно\n",
    "\n",
    "print_arguments('Hello', 'World!')"
   ]
  },
  {
   "cell_type": "code",
   "execution_count": null,
   "metadata": {},
   "outputs": [],
   "source": [
    "# Функции могут возвращать значение - ключевое слово return\n",
    "\n",
    "def square(x):\n",
    "    return x**2\n",
    "\n",
    "print( square(2) )"
   ]
  },
  {
   "cell_type": "code",
   "execution_count": null,
   "metadata": {},
   "outputs": [],
   "source": [
    "# Но функции всегда возвращают значение\n",
    "\n",
    "result = print_arguments('Hello', 'World!')\n",
    "\n",
    "print( result )"
   ]
  },
  {
   "cell_type": "markdown",
   "metadata": {},
   "source": [
    "### Синтаксис аргументов функций"
   ]
  },
  {
   "cell_type": "code",
   "execution_count": null,
   "metadata": {},
   "outputs": [],
   "source": [
    "# Два вида объявления аргументов функции: позиционные и опциональные (positional and keyword arguments)\n",
    "\n",
    "# Позиционные - передаются в порядке объявления и в том же количестве c опциональным указанием имени аргумента\n",
    "# Опциональные - передаются в любом порядке в любом количестве с опциональным указанием имени аргумента\n",
    "\n",
    "# string - позиционный, repeats - опциональный\n",
    "\n",
    "def repeat_string(string, repeats=1):\n",
    "    print(string*repeats)\n",
    "\n",
    "repeat_string('Hello')\n",
    "repeat_string('Hello', repeats=3)\n",
    "repeat_string('Hello', 3)\n",
    "repeat_string(string='Hello')\n",
    "repeat_string(string='Hello', repeats=3)"
   ]
  },
  {
   "cell_type": "markdown",
   "metadata": {},
   "source": [
    "### Функции с переменным количеством аргументов: операторы `*` и `**`"
   ]
  },
  {
   "cell_type": "code",
   "execution_count": null,
   "metadata": {},
   "outputs": [],
   "source": [
    "# Иногда нужно принять разное количество аргументов в зависимости от ситуации\n",
    "# Пример - функция print()\n",
    "\n",
    "# Для этого есть специальный синтаксис\n",
    "\n",
    "# Допустим, у нас есть список и мы хотим напечатать его элементы\n",
    "\n",
    "a_list = ['one', 'two', 'three']\n",
    "\n",
    "# Вариант в лоб\n",
    "\n",
    "print( a_list[0], a_list[1], a_list[2] )\n",
    "\n",
    "# Вариант c циклом\n",
    "\n",
    "for a in a_list:\n",
    "    print(a, end=' ')\n",
    "print()\n",
    "\n",
    "# Вариант с передачей параметров в функцию в виде списка = распаковка списка\n",
    "# Распаковка списков - для позиционных аргументов\n",
    "\n",
    "print( *a_list )"
   ]
  },
  {
   "cell_type": "code",
   "execution_count": null,
   "metadata": {},
   "outputs": [],
   "source": [
    "# Для опциональных аргументов - распаковка словарей (**)\n",
    "\n",
    "# Допустим есть два вида настроек для функции print (набор опциональных аргументов)\n",
    "\n",
    "a_list = ['one', 'two', 'three']\n",
    "\n",
    "config1 = dict(sep=' : ', end='?')\n",
    "config2 = dict(sep=' % ', end='\\t')\n",
    "\n",
    "print(*a_list, **config1)\n",
    "print()\n",
    "print(*a_list, **config2)"
   ]
  },
  {
   "cell_type": "code",
   "execution_count": null,
   "metadata": {},
   "outputs": [],
   "source": [
    "# Создание своих функций, принимающих переменное количество аргументов\n",
    "\n",
    "def my_print(*args, **kwargs):\n",
    "    print(args, type(args))\n",
    "    print(kwargs, type(kwargs))\n",
    "    \n",
    "    \n",
    "print('Вызов функции с перечеслением позиционных и опциональных аргументов')\n",
    "    \n",
    "my_print(1, 2, 3, one=1, two=2, three=3)\n",
    "\n",
    "print()\n",
    "\n",
    "print('Вызов функции с передачей списка и словаря с распаковкой')\n",
    "\n",
    "my_print(*a_list, **config1)"
   ]
  },
  {
   "cell_type": "markdown",
   "metadata": {},
   "source": [
    "### Документирование функций: docstring"
   ]
  },
  {
   "cell_type": "code",
   "execution_count": null,
   "metadata": {
    "scrolled": true
   },
   "outputs": [],
   "source": [
    "# Если под объявлением функции написать текст в тройных кавычках - это будет документацией к функции\n",
    "\n",
    "def my_func(*args, **kwargs):\n",
    "    '''Моя функция. А это её документация.'''\n",
    "    pass\n",
    "\n",
    "help(my_func)"
   ]
  },
  {
   "cell_type": "markdown",
   "metadata": {},
   "source": [
    "### Области видимости функций: LEGB"
   ]
  },
  {
   "cell_type": "code",
   "execution_count": null,
   "metadata": {},
   "outputs": [],
   "source": [
    "# У каждой функции - своя локальная область видимости\n",
    "\n",
    "# LEGB означает порядок поиска переменной в областях видемости: local, enclosing, global, built-in\n",
    "\n",
    "# local - локальная область видимости функции\n",
    "\n",
    "# enclosing - потом (если функция объявлена внутри класса или другой функции)\n",
    "\n",
    "glob = 'global'\n",
    "\n",
    "def func_local(string):\n",
    "    glob = string\n",
    "    print('func_local: ', glob)\n",
    "    \n",
    "def func_global(string):\n",
    "    global glob\n",
    "    glob = string\n",
    "    print('func_local: ', glob)\n",
    "\n",
    "    \n",
    "func_local('local')\n",
    "print(glob)\n",
    "\n",
    "func_global('local')\n",
    "print(glob)"
   ]
  },
  {
   "cell_type": "code",
   "execution_count": null,
   "metadata": {},
   "outputs": [],
   "source": [
    "# Локальное пространство имён - только у функций, в циклах - нет\n",
    "\n",
    "for x in range(2):\n",
    "    print(x)\n",
    "print(x)"
   ]
  },
  {
   "cell_type": "markdown",
   "metadata": {},
   "source": [
    "### Аннотации типов"
   ]
  },
  {
   "cell_type": "code",
   "execution_count": null,
   "metadata": {},
   "outputs": [],
   "source": [
    "# С версии 3.5 стало возможным в функциях писать аннотации типов\n",
    "# Аннотации типов нужны для удобства составления и чтения документации\n",
    "# Аннотации типов не обязательны, но желательны в production коде\n",
    "\n",
    "def annotated(x: int, y: str) -> bool:\n",
    "    return x < y"
   ]
  },
  {
   "cell_type": "markdown",
   "metadata": {},
   "source": [
    "### Фунции, как объекты первого порядка: first-order objects"
   ]
  },
  {
   "cell_type": "markdown",
   "metadata": {},
   "source": [
    "Поскольку всё в Питоне - объекты, то функции тоже объекты, причём объекты первого класса (как и все остальные).\n",
    "\n",
    "Объект первого класса - это объект, который может быть динамически создан, уничтожен, передан функции, возвращен как значение и имеет все права, как и другие переменные на языке программирования."
   ]
  },
  {
   "cell_type": "code",
   "execution_count": null,
   "metadata": {},
   "outputs": [],
   "source": [
    "# Объявляем функцию\n",
    "\n",
    "def func(x):\n",
    "    return x**2\n",
    "\n",
    "# Вызываем функцию и пишем результат в переменную\n",
    "\n",
    "result = func(10)\n",
    "\n",
    "print( result, type(result) )\n",
    "\n",
    "# Не вызываем функцию, а присваиваем её имя переменной\n",
    "\n",
    "result_func = func\n",
    "\n",
    "print( result_func, type(result_func) )\n",
    "\n",
    "# Теперь result_func - ещё одно имя функции func и её можно вызвать!\n",
    "\n",
    "result = result_func(10)\n",
    "\n",
    "print( result, type(result) )"
   ]
  },
  {
   "cell_type": "code",
   "execution_count": null,
   "metadata": {},
   "outputs": [],
   "source": [
    "# Объявим функцию, которая будет возвращать функцию\n",
    "\n",
    "def func_returner():\n",
    "    return func\n",
    "\n",
    "returned_func = func_returner()\n",
    "\n",
    "print(returned_func, type(returned_func))"
   ]
  },
  {
   "cell_type": "code",
   "execution_count": null,
   "metadata": {},
   "outputs": [],
   "source": [
    "# Объявим функцию, которая принимает на вход функцию\n",
    "\n",
    "def func_executer(input_func):\n",
    "    input_func('Hello World!')\n",
    "\n",
    "func_executer(print)    "
   ]
  },
  {
   "cell_type": "markdown",
   "metadata": {},
   "source": [
    "### Лямбда-выражения: lambda expressions"
   ]
  },
  {
   "cell_type": "code",
   "execution_count": null,
   "metadata": {},
   "outputs": [],
   "source": [
    "# Лямбда выражения - это короткие функции без названия (анонимные)\n",
    "\n",
    "# Синтаксис: lambda переменная: результат\n",
    "\n",
    "# Объявим лямбда выражение, возвращающее квадрат переданного числа и присвоим переменной\n",
    "\n",
    "lambda_func = lambda x: x**2\n",
    "\n",
    "# Это эквивалентно классическому объявлению\n",
    "\n",
    "def def_func(x):\n",
    "    return x**2\n",
    "\n",
    "print(lambda_func, type(lambda_func))\n",
    "\n",
    "print(lambda_func(10))"
   ]
  },
  {
   "cell_type": "code",
   "execution_count": null,
   "metadata": {},
   "outputs": [],
   "source": [
    "# Вариант с несколькими аргументами\n",
    "\n",
    "(lambda x, y: x + y)(10, 20)"
   ]
  },
  {
   "cell_type": "markdown",
   "metadata": {},
   "source": [
    "### Встроенные функции map и filter"
   ]
  },
  {
   "cell_type": "code",
   "execution_count": null,
   "metadata": {},
   "outputs": [],
   "source": [
    "# Иногда нужно применить функцию к каждому элементу коллекции или отфильтровать по сложному критерию\n",
    "\n",
    "# Для этого есть встроенные функции map и filter\n",
    "\n",
    "# Вот тут-то и могут пригодится лямбда-выражения\n",
    "\n",
    "a_list = [1, 2, 3]\n",
    "b_list = [4, 5, 6]\n",
    "\n",
    "# Применение функции к одному списку\n",
    "\n",
    "print( list( map(lambda x: x**2, a_list)) )\n",
    "\n",
    "# Применение функции к двум спискам\n",
    "\n",
    "print( list( map(lambda x, y: x + y, a_list, b_list) ) )\n",
    "\n",
    "# Но можно и функцию с именем, тогда передаётся только имя функции\n",
    "\n",
    "def add(x, y):\n",
    "    return x + y\n",
    "\n",
    "print( list( map(add, a_list, b_list) ) )\n"
   ]
  },
  {
   "cell_type": "code",
   "execution_count": null,
   "metadata": {},
   "outputs": [],
   "source": [
    "# filter принимает функцию, результат которой приводит к типу bool\n",
    "\n",
    "print( list( filter(lambda x: x > 1, a_list) ) )"
   ]
  },
  {
   "cell_type": "markdown",
   "metadata": {},
   "source": [
    "### Встроенные функции min, max, sorted"
   ]
  },
  {
   "cell_type": "code",
   "execution_count": null,
   "metadata": {
    "scrolled": true
   },
   "outputs": [],
   "source": [
    "# функции min, max и sorted могут принимать аргументом функцию, по которой производить сравнение\n",
    "\n",
    "a_dict = {'3': 10, '1': 1, '2': 100}\n",
    "\n",
    "take_second = lambda item: item[1]\n",
    "\n",
    "# Отсортируем элементы словаря по ключам\n",
    "\n",
    "print( sorted(a_dict.items()) )\n",
    "\n",
    "# Отсортируем элементы словаря по значениям\n",
    "\n",
    "print( sorted(a_dict.items(), key=take_second) )\n",
    "\n",
    "# С максимумом так же\n",
    "\n",
    "print( max(a_dict.items()) )\n",
    "\n",
    "print( max(a_dict.items(), key=take_second) )"
   ]
  },
  {
   "cell_type": "markdown",
   "metadata": {},
   "source": [
    "### Функции-генераторы: generator functions"
   ]
  },
  {
   "cell_type": "code",
   "execution_count": null,
   "metadata": {},
   "outputs": [],
   "source": [
    "# По аналогии с выражениями-генераторами можно создавать более сложные функции-генераторы\n",
    "\n",
    "# Основное отличие - ключевое слово yield вместо return и сохранение своего состояния между вызовами\n",
    "\n",
    "# Создадим функцию, которая будет возвращать квадраты и кубы чисел от нуля до n\n",
    "\n",
    "# Причём квадраты и кубы - разные итерации функции\n",
    "\n",
    "def generator_func(n):\n",
    "    for x in range(n):\n",
    "        yield x**2\n",
    "        yield x**3\n",
    "               \n",
    "# И пробежимся циклом for по результатам функции\n",
    "\n",
    "for num in generator_func(5):\n",
    "    print(num)\n",
    "    \n",
    "# А почему такое возможно? Посмотрим тип возвращаемого значения\n",
    "\n",
    "print( generator_func, type(generator_func) )\n",
    "print( generator_func(5), type(generator_func(5)))"
   ]
  },
  {
   "cell_type": "markdown",
   "metadata": {},
   "source": [
    "## Часть 3. Модули и пакеты"
   ]
  },
  {
   "cell_type": "markdown",
   "metadata": {},
   "source": [
    "### Модули и ключевое слово import"
   ]
  },
  {
   "cell_type": "markdown",
   "metadata": {},
   "source": [
    "С ростом количества кода в проекте, становится необходимым поделить его на несколько файлов, причём, желательно, группирующих близкий по смыслу код. Для этого существует система модулей и пакетов.\n",
    "\n",
    "Каждый модуль - отдельное пространство имён. Даже если в двух разных модулях имена функций одинаковые, при подключении они отличаются именами модулей. Рассмотрим на практике."
   ]
  },
  {
   "cell_type": "code",
   "execution_count": null,
   "metadata": {},
   "outputs": [],
   "source": [
    "# Любой файл с кодом на Питоне - модуль\n",
    "\n",
    "# Файл можно подключить к текущему файлу или коду с помощью ключевого слова import\n",
    "\n",
    "# math - встроенный в стандартный пакет модуль, содержащий различные математические функции\n",
    "\n",
    "import math\n",
    "\n",
    "pi = math.pi\n",
    "\n",
    "print( pi, math.pi )"
   ]
  },
  {
   "cell_type": "code",
   "execution_count": null,
   "metadata": {},
   "outputs": [],
   "source": [
    "# Можно импортировать только необходимое, тогда оно попадёт в текущее пространство имён\n",
    "\n",
    "from math import pi, sin, cos\n",
    "\n",
    "print( pi, sin(pi), cos(pi) )\n"
   ]
  },
  {
   "cell_type": "code",
   "execution_count": null,
   "metadata": {},
   "outputs": [],
   "source": [
    "# Можно задавать свои названия для импортированных молулей\n",
    "\n",
    "import math as ma\n",
    "\n",
    "print( ma.pi )"
   ]
  },
  {
   "cell_type": "code",
   "execution_count": null,
   "metadata": {},
   "outputs": [],
   "source": [
    "# И отдельным элементам из модуля\n",
    "\n",
    "from math import pi as math_pi\n",
    "\n",
    "print( math_pi )"
   ]
  },
  {
   "cell_type": "markdown",
   "metadata": {},
   "source": [
    "### Объединение модулей в пакеты"
   ]
  },
  {
   "cell_type": "markdown",
   "metadata": {},
   "source": [
    "Возможно объединение модулей в пакеты модулей. \n",
    "К примеру мы разрабатываем пакет для работы с протоколом TCP. Для этого на жёстком диске создаётся следующая структура каталогов и файлов:\n",
    "```\n",
    "TCP/\n",
    "   __init__.py\n",
    "   main.py\n",
    "   Server/\n",
    "         __init__.py\n",
    "         tcp.py\n",
    "         server.py\n",
    "         lib.py\n",
    "   Client/\n",
    "         __init__.py\n",
    "         tcp.py\n",
    "         client.py\n",
    "         lib.py\n",
    "```\n",
    "Чтобы использовать этот пакет в коде нам нужно его импортировать:\n",
    "```\n",
    "import TCP\n",
    "\n",
    "Или отдельный его модуль\n",
    "\n",
    "import TCP.Server.lib\n",
    "```\n",
    "При этом файлы `__init__.py` - пустые в большинстве случаев и нужны только для укания, что это пакет."
   ]
  },
  {
   "cell_type": "markdown",
   "metadata": {},
   "source": [
    "### Встроенная функция dir"
   ]
  },
  {
   "cell_type": "code",
   "execution_count": null,
   "metadata": {
    "scrolled": false
   },
   "outputs": [],
   "source": [
    "# Встроенная функция dir позволяет посмотреть содержимое модуля, пакета, класса, функции\n",
    "# То есть отображает всё, что определено в пространстве имён\n",
    "\n",
    "print( dir() )\n",
    "print()\n",
    "print( dir(math) )\n",
    "print()\n",
    "print( dir(dir))\n",
    "print()\n",
    "print( dir(str))"
   ]
  },
  {
   "cell_type": "markdown",
   "metadata": {},
   "source": [
    "## Часть 4. Закрепление материала"
   ]
  },
  {
   "cell_type": "markdown",
   "metadata": {},
   "source": [
    "### Задача 1. Счётчик слов в тексте"
   ]
  },
  {
   "cell_type": "markdown",
   "metadata": {},
   "source": [
    "Напишите программу, которая посчитает все слова в тексте (переменная text в ячейке ниже) и выведет топ 10 слов. Слово - буквы, отделённые пробелами с обоих сторон. Знаки препинания и спецсимволы не считаются словом и его частью. <br><br>\n",
    "Для решения задачи рекомендуется использовать методы класса str: split, replace, strip. Для счётчика слов рекомендуется использовать словарь."
   ]
  },
  {
   "cell_type": "code",
   "execution_count": null,
   "metadata": {},
   "outputs": [],
   "source": [
    "# Задача 1. Счётчик слов в тексте\n",
    "\n",
    "text = '''\n",
    "Строительство моста через Вторую речку, который свяжет улицы Гамарника и одностороннюю Бородинскую, начнется только после расчистки русла реки. Дноуглубительные работы будет проводить «Приморский водоканал». В пресс-службе администрации Владивостока отметили, что на 2019 год строительство моста не запланировано.\n",
    "Возведение моста, который позволит автомобилистам пересекать реку, не выезжая на проспект 100-летия Владивостока, должно было начаться осенью текущего года. Однако при детальной проработке вопроса выяснилось, что прежде чем приступать к строительству, необходимо провести дноуглубление русла Второй речки.\n",
    "«Сейчас дно сильно заилено и захламлено мусором. Из-за этого даже после незначительных дождей происходит подтопление придомовых территорий и подвалов близлежащих жилых домов на улице Гамарника. Как итог – трещины на фасаде и фундаменте, неудовлетворительное техническое состояние домов, которое, по словам жителей, угрожает жизни и здоровью более двухсот человек», – комментируют в пресс-службе Законодательного собрания.\n",
    "Проблему во дворе дома на Гамарника, 2 в конце прошлой недели обсуждали на встрече жителей с чиновниками краевой и городской администраций и представителями парламента.\n",
    "'''\n",
    "\n",
    "\n",
    "\n"
   ]
  },
  {
   "cell_type": "markdown",
   "metadata": {},
   "source": [
    "### Задача 2. Закрепление comprehensions"
   ]
  },
  {
   "cell_type": "markdown",
   "metadata": {},
   "source": [
    "С помощью list comprehensions создайте следующие списки:\n",
    "- список чисел от 1 до 100 с шагом 1, которые делятся без остатка одновременно на 3 и 5\n",
    "- список из True и False для чисел от 1 до 20, содержащий True, если соответствующее число чётно и False, если нечётно\n",
    "- список слов из задачи один, длиннее 8 символов"
   ]
  },
  {
   "cell_type": "code",
   "execution_count": null,
   "metadata": {},
   "outputs": [],
   "source": [
    "# Задача 2. Закрепление comprehensions"
   ]
  },
  {
   "cell_type": "markdown",
   "metadata": {},
   "source": [
    "### Задача 3. Закрепление функций"
   ]
  },
  {
   "cell_type": "markdown",
   "metadata": {},
   "source": [
    "Реализуйте следующие функцию, которая считает слова в строке, переданной позиционным параметром, а опциональным параметром принимает список слов, которые не надо учитывать при подсчёте. Функция должна вернуть количество слов в строке (целое число)."
   ]
  },
  {
   "cell_type": "code",
   "execution_count": null,
   "metadata": {},
   "outputs": [],
   "source": [
    "# Задача 3. Закрепление функций"
   ]
  }
 ],
 "metadata": {
  "kernelspec": {
   "display_name": "Python 3",
   "language": "python",
   "name": "python3"
  },
  "language_info": {
   "codemirror_mode": {
    "name": "ipython",
    "version": 3
   },
   "file_extension": ".py",
   "mimetype": "text/x-python",
   "name": "python",
   "nbconvert_exporter": "python",
   "pygments_lexer": "ipython3",
   "version": "3.6.5"
  }
 },
 "nbformat": 4,
 "nbformat_minor": 2
}
