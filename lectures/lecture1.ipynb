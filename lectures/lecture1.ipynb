{
 "cells": [
  {
   "cell_type": "markdown",
   "metadata": {},
   "source": [
    "# Курс Python. Занятие 1. Быстрое знакомство с языком."
   ]
  },
  {
   "cell_type": "markdown",
   "metadata": {},
   "source": [
    "## Сожержание\n",
    "[Часть 1. Самая важная](#Часть-1.-Самая-важная)\n",
    "* [Hello, World!](#Hello,-World!)\n",
    "* [Числовые типы данных: int, float, complex](#Числовые-типы-данных:-int,-float,-complex)\n",
    "* [Арифметические операции](#Арифметические-операции)\n",
    "* [Переменные в Питоне](#Переменные-в-Питоне)\n",
    "* [Булевый тип данных: bool](#Булевый-тип-данных:-bool)\n",
    "* [Булевы операции](#Булевы-операции)\n",
    "* [Операции сравнения](#Операции-сравнения)\n",
    "* [Условный оператор](#Условный-оператор)\n",
    "\n",
    "\n",
    "[Часть 2. Самая сложная](#Часть-2.-Самая-сложная)\n",
    "* [Тип данных строка: str](#Тип-данных-строка:-str)\n",
    "* [Операции со строками](#Операции-со-строками)\n",
    "* [Индексация строк и срезы: indexes and slices](#Индексация-строк-и-срезы:-indexes-and-slices)\n",
    "* [\"Неизменяемость\" строк: immutable](#\"Неизменяемость\"-строк:-immutable)\n",
    "* [Тип данных список: list](#Тип-данных-список:-list)\n",
    "* [Операции над списками](#Операции-над-списками)\n",
    "* [\"Изменяемость\" списков: mutable](#\"Изменяемость\"-списков:-mutable)\n",
    "* [Тип данных кортеж: tuple](#Тип-данных-кортеж:-tuple)\n",
    "* [Операции над кортежами](#Операции-над-кортежами)\n",
    "* [\"Распаковка-значений\" итерируемых типов](#\"Распаковка-значений\"-итерируемых-типов)\n",
    "\n",
    "[Часть 3. Самая интересная](#Часть-3.-Самая-интересная)\n",
    "* [Цикл for](#Цикл-for)\n",
    "* [Встроенная функция range](#Встроенная-функция-range)\n",
    "* [Встроенная функция enumerate](#Встроенная-функция-enumerate)\n",
    "* [Цикл while](#Цикл-while)\n",
    "\n",
    "\n",
    "[Часть 4. Самая практическая](#Часть-4.-Самая-практическая)\n",
    "* [Задача 1. FizzBuzz](#Задача-1.-FizzBuzz)\n",
    "* [Задача 2. Палиндром](#Задача-2.-Палиндром)\n",
    "* [Задача 3. Думерный массив](#Задача-3.-Думерный-массив)"
   ]
  },
  {
   "cell_type": "markdown",
   "metadata": {},
   "source": [
    "## Часть 1. Самая важная"
   ]
  },
  {
   "cell_type": "markdown",
   "metadata": {},
   "source": [
    "### Hello, World!"
   ]
  },
  {
   "cell_type": "code",
   "execution_count": null,
   "metadata": {},
   "outputs": [],
   "source": [
    "# Так пишутся комментарии\n",
    "\n",
    "\"Hello, World!\""
   ]
  },
  {
   "cell_type": "code",
   "execution_count": null,
   "metadata": {},
   "outputs": [],
   "source": [
    "# Питон чувствителен к регистру: print и Print - разные команды с точки зрения Питона\n",
    "\n",
    "# И да, строки как в одинарных, так и в двойных кавычках, но об этом позже\n",
    "\n",
    "print( 'Hello, World!' )"
   ]
  },
  {
   "cell_type": "code",
   "execution_count": null,
   "metadata": {},
   "outputs": [],
   "source": [
    "# input() - встроенная функция, которая принимает текст с клавиатуры\n",
    "\n",
    "print( 'Hello,', input('Введите имя: '), '!' )"
   ]
  },
  {
   "cell_type": "markdown",
   "metadata": {},
   "source": [
    "### Числовые типы данных: int, float, complex"
   ]
  },
  {
   "cell_type": "code",
   "execution_count": null,
   "metadata": {},
   "outputs": [],
   "source": [
    "# Целые числа, тип int\n",
    "\n",
    "print(42, -42, 0, 100_000_00, 3292302309230093847854, 0b101010, 0xFF, int(42.5))"
   ]
  },
  {
   "cell_type": "code",
   "execution_count": null,
   "metadata": {},
   "outputs": [],
   "source": [
    "# Числа с плавающей точкой, тип float\n",
    "\n",
    "print(0.2, -23.568, 2.7e-2, 0.0, float(42))"
   ]
  },
  {
   "cell_type": "code",
   "execution_count": null,
   "metadata": {},
   "outputs": [],
   "source": [
    "# Комплексные числа, тип complex (кому они нужны?)\n",
    "\n",
    "print(14+1j, complex(42, -1))"
   ]
  },
  {
   "cell_type": "markdown",
   "metadata": {},
   "source": [
    "### Арифметические операции\n"
   ]
  },
  {
   "cell_type": "code",
   "execution_count": null,
   "metadata": {},
   "outputs": [],
   "source": [
    "# Почти всё так же, как в других языках\n",
    "\n",
    "print( 2 + 2, 2 - 2, 2 * 2)"
   ]
  },
  {
   "cell_type": "code",
   "execution_count": null,
   "metadata": {
    "scrolled": true
   },
   "outputs": [],
   "source": [
    "# Но с делением есть нюансы\n",
    "\n",
    "print( 3 / 2 )       # Реузльтат всегда float\n",
    "print( 3 // 2 )      # Целочисленное деление, результат: int, если оба int; float, если хоть один из них float\n",
    "print( 3 % 2 )       # Остаток от деления: типы так же, как и выше\n",
    "print( 3.5 % 2.0 )   # Обратите внимание на результат"
   ]
  },
  {
   "cell_type": "code",
   "execution_count": null,
   "metadata": {},
   "outputs": [],
   "source": [
    "# Бонусом идёт возведение в степень\n",
    "\n",
    "print( 2 ** 22 )\n",
    "print( 2 ** 0.5 )"
   ]
  },
  {
   "cell_type": "code",
   "execution_count": null,
   "metadata": {},
   "outputs": [],
   "source": [
    "# Ну и скобки, конечно же\n",
    "\n",
    "(2 + 2 // 2) * 2"
   ]
  },
  {
   "cell_type": "markdown",
   "metadata": {},
   "source": [
    "### Переменные в Питоне"
   ]
  },
  {
   "cell_type": "code",
   "execution_count": null,
   "metadata": {},
   "outputs": [],
   "source": [
    "# В нужный момент объявляем имя переменной с обязательным присвоением ему значения\n",
    "\n",
    "a = 1  \n",
    "b = 2.0"
   ]
  },
  {
   "cell_type": "code",
   "execution_count": null,
   "metadata": {
    "scrolled": true
   },
   "outputs": [],
   "source": [
    "# type() - встроенная функция для определения типа переменной\n",
    "\n",
    "print( a, type(a) )\n",
    "print( b, type(b) )"
   ]
  },
  {
   "cell_type": "code",
   "execution_count": null,
   "metadata": {
    "scrolled": false
   },
   "outputs": [],
   "source": [
    "# id() - встроенная функция для определения идентификатора объекта в памяти, на который указывает переменная\n",
    "\n",
    "# Идентификатор объекта - уникальное целое число, которое остаётся уникальным в течении времени жизни объекта\n",
    "\n",
    "print( id(a) )\n",
    "print( id(b) )"
   ]
  },
  {
   "cell_type": "code",
   "execution_count": null,
   "metadata": {},
   "outputs": [],
   "source": [
    "# Присвоим переменной b переменную a и узнаем их type и id\n",
    "\n",
    "b = a\n",
    "\n",
    "print( a, type(a), id(a) )\n",
    "print( b, type(b), id(b) )"
   ]
  },
  {
   "cell_type": "code",
   "execution_count": null,
   "metadata": {},
   "outputs": [],
   "source": [
    "# Динамическая типизация\n",
    "a = 1\n",
    "b = 1.0\n",
    "\n",
    "print( a + b )"
   ]
  },
  {
   "cell_type": "code",
   "execution_count": null,
   "metadata": {},
   "outputs": [],
   "source": [
    "# Но СТРОГАЯ динамическая типизация\n",
    "\n",
    "a = 1\n",
    "b = 'hello'\n",
    "\n",
    "print( a + b )   # Заодно пример ошибки"
   ]
  },
  {
   "cell_type": "code",
   "execution_count": null,
   "metadata": {},
   "outputs": [],
   "source": [
    "# Множественное присваивание (количество переменных слева должно быть равно количеству значений справа)\n",
    "\n",
    "a, b = 1, 2.0\n",
    "\n",
    "print( a, type(a) )\n",
    "print( b, type(b) )"
   ]
  },
  {
   "cell_type": "code",
   "execution_count": null,
   "metadata": {},
   "outputs": [],
   "source": [
    "# Удобно, когда нужно поменять значения в переменных местами (swap)\n",
    "\n",
    "a, b = b, a\n",
    "\n",
    "print( a, type(a) )\n",
    "print( b, type(b) )"
   ]
  },
  {
   "cell_type": "code",
   "execution_count": null,
   "metadata": {},
   "outputs": [],
   "source": [
    "# И вот такой вариант\n",
    "\n",
    "a = b = c = 1\n",
    "\n",
    "print( a, b, c)"
   ]
  },
  {
   "cell_type": "markdown",
   "metadata": {},
   "source": [
    "### Булевый тип данных: bool"
   ]
  },
  {
   "cell_type": "code",
   "execution_count": null,
   "metadata": {},
   "outputs": [],
   "source": [
    "print( True )      # Ключивое слово для значинея Истина\n",
    "print( False )     # Ключивое слово для значинея Ложь"
   ]
  },
  {
   "cell_type": "code",
   "execution_count": null,
   "metadata": {},
   "outputs": [],
   "source": [
    "# Встроенная функция bool() - приведение значения к типу bool\n",
    "\n",
    "# Всё, что не 0 и не пусто - истина\n",
    "print( bool(42) )\n",
    "print( bool(0.42) )\n",
    "print( bool('hello') )"
   ]
  },
  {
   "cell_type": "code",
   "execution_count": null,
   "metadata": {},
   "outputs": [],
   "source": [
    "# Всё, что 0 и пусто - ложь\n",
    "\n",
    "print( bool(0) )          # \n",
    "print( bool(0.0) )\n",
    "print( bool('') )\n",
    "\n",
    "# None - ключевое слово для обозначения пустоты (аналог NULL в С++)\n",
    "# Оно тоже ложно\n",
    "\n",
    "print( bool(None) )"
   ]
  },
  {
   "cell_type": "markdown",
   "metadata": {},
   "source": [
    "### Булевы операции\n"
   ]
  },
  {
   "cell_type": "code",
   "execution_count": null,
   "metadata": {},
   "outputs": [],
   "source": [
    "# Операции приведены в порядке убывания приоритета\n",
    "\n",
    "# or - ключевое слово для операции ИЛИ\n",
    "print( True or False )\n",
    "\n",
    "# and - ключевое слово для операции И\n",
    "print( True and False ) \n",
    "\n",
    "# not - ключевое слово для операции НЕ\n",
    "print( not True )\n",
    "\n"
   ]
  },
  {
   "cell_type": "code",
   "execution_count": null,
   "metadata": {},
   "outputs": [],
   "source": [
    "# Если x и y - любой другой тип, то происходит приведение к типу bool для подсчёта результата операции, \n",
    "# а возвращается значение x или y в зависимости от результата булевой операции\n",
    "# Если коротко, то возвращается значение, после вычисления которого стал известен результат булевой операции\n",
    "\n",
    "print( 0 and 2 )       # возвращает 0, потому что дальше можно не смотреть\n",
    "print( 1 and 2 )       # возвращает 2, потому что 1 не позволило заранее посчитать результат операции \n",
    "print( 1 or 2 )        # возвращает 1, потому что как только узнали, что 1 есть истина, результат операции ИЛИ предопределён\n",
    "print( 0 or 2 )        # возвращает 2, потому что пришлось дойти до 2, чтобы вычислить результат операции ИЛИ"
   ]
  },
  {
   "cell_type": "code",
   "execution_count": null,
   "metadata": {},
   "outputs": [],
   "source": [
    "# is и is not - булевы операции для проверки объектов на идентичность\n",
    "\n",
    "a = 1\n",
    "b = 1.0\n",
    "\n",
    "print( a is b )\n",
    "print( a is not b )"
   ]
  },
  {
   "cell_type": "markdown",
   "metadata": {},
   "source": [
    "### Операции сравнения"
   ]
  },
  {
   "cell_type": "code",
   "execution_count": null,
   "metadata": {},
   "outputs": [],
   "source": [
    "# Всё как в С++\n",
    "\n",
    "# Результат операций сравнения - тип bool\n",
    "\n",
    "print( 1 < 2 )\n",
    "print( 1 > 2 )\n",
    "print( 1 <= 2 )\n",
    "print( 1 >= 2 )\n",
    "print( 1 == 2 )\n",
    "print( 1 != 2 )"
   ]
  },
  {
   "cell_type": "code",
   "execution_count": null,
   "metadata": {},
   "outputs": [],
   "source": [
    "# Ещё раз про сравнение объектов\n",
    "\n",
    "a = 1\n",
    "b = 1.0\n",
    "\n",
    "print( a == b )         # Значения равны\n",
    "print( a is b )         # Объекты не одинаковые"
   ]
  },
  {
   "cell_type": "code",
   "execution_count": null,
   "metadata": {},
   "outputs": [],
   "source": [
    "# Операции сравнения можно комбинировать с булевыми операциями, как и в С++\n",
    "\n",
    "print( 1 < 2 and 2 < 3 )\n",
    "print( 2 == 2**2 or 3 < 0 )\n",
    "print( not 1 + 1 != 2 + 2 )"
   ]
  },
  {
   "cell_type": "code",
   "execution_count": null,
   "metadata": {},
   "outputs": [],
   "source": [
    "# Для удобства операции сравнения можно писать так\n",
    "\n",
    "1 < 2 < 3       # Эквивалентно 1 < 2 and 2 < 3"
   ]
  },
  {
   "cell_type": "code",
   "execution_count": null,
   "metadata": {
    "scrolled": true
   },
   "outputs": [],
   "source": [
    "1 < 2 > 0       # Эквивалентно 1 < 2 and 2 > 0, причём происходит вычисление только левой части (см. булевы операции)"
   ]
  },
  {
   "cell_type": "markdown",
   "metadata": {},
   "source": [
    "### Условный оператор"
   ]
  },
  {
   "cell_type": "code",
   "execution_count": null,
   "metadata": {},
   "outputs": [],
   "source": [
    "# Первые сложные синтаксические конструкции языка\n",
    "\n",
    "# Обратите внимание: тело условного оператора пишется с отступами, они обязательны в Питоне! Замена {...} в C++\n",
    "\n",
    "x = -1\n",
    "\n",
    "if x < 0:\n",
    "    x = 1           # Отступы обязательны! (4 пробела канонически, но tab тоже работает)\n",
    "    x = 2           # Всё тело условного оператора с отступами\n",
    "print(x)            # Следующие строки за условным оператором - без отступа (точнее на одном уровне с ним)"
   ]
  },
  {
   "cell_type": "code",
   "execution_count": null,
   "metadata": {},
   "outputs": [],
   "source": [
    "# else - иначе\n",
    "\n",
    "# Обратите внимание на отступы!\n",
    "\n",
    "x = 1\n",
    "\n",
    "if x < 0:\n",
    "    x = 1\n",
    "else:\n",
    "    x = -1\n",
    "print(x)"
   ]
  },
  {
   "cell_type": "code",
   "execution_count": null,
   "metadata": {},
   "outputs": [],
   "source": [
    "# elif - иначе, если; их можно писать много после if и до else\n",
    "# elif - замена оператора case в c++\n",
    "# Обязательно проверять какое-то условие в elif\n",
    "\n",
    "x = 0\n",
    "\n",
    "if x < 0:\n",
    "    x = 1\n",
    "elif x == 0:\n",
    "    x = 10\n",
    "else:\n",
    "    x = -1\n",
    "print(x)"
   ]
  },
  {
   "cell_type": "code",
   "execution_count": null,
   "metadata": {},
   "outputs": [],
   "source": [
    "# Тернарный оператор if - когда надо в одну строчку выдать результат в зависимости от условий\n",
    "\n",
    "x = 1\n",
    "\n",
    "print( 0 if x > 0 else 2 )"
   ]
  },
  {
   "cell_type": "code",
   "execution_count": null,
   "metadata": {},
   "outputs": [],
   "source": [
    "# pass - втроенный оператор, который ничего не делает, а просто занимает строчку\n",
    "\n",
    "# Используется как временная заглушка, когда тело условия ещё не придумано (а также цикла, функции, класса)\n",
    "\n",
    "if 0 < 1:\n",
    "    pass                   # Используется часто в процессе написания кода"
   ]
  },
  {
   "cell_type": "markdown",
   "metadata": {},
   "source": [
    "## Часть 2. Самая сложная"
   ]
  },
  {
   "cell_type": "markdown",
   "metadata": {},
   "source": [
    "### Тип данных строка: str"
   ]
  },
  {
   "cell_type": "code",
   "execution_count": null,
   "metadata": {},
   "outputs": [],
   "source": [
    "# 2 вида кавычек\n",
    "\n",
    "print( 'hello' )\n",
    "print( \"hello\" )\n",
    "\n",
    "# для удобства использования кавычек внутри\n",
    "\n",
    "print( ' hello \"world\" ')\n",
    "print( \" hello 'world' \")"
   ]
  },
  {
   "cell_type": "code",
   "execution_count": null,
   "metadata": {},
   "outputs": [],
   "source": [
    "# В кодировке Unicode\n",
    "\n",
    "print( 'Привет ворлд!' )"
   ]
  },
  {
   "cell_type": "code",
   "execution_count": null,
   "metadata": {
    "scrolled": true
   },
   "outputs": [],
   "source": [
    "# многострочные строки с сохранением форматирования - тройные ' или \"\n",
    "\n",
    "print(\n",
    "'''\n",
    "hello\n",
    "                world\n",
    "'''\n",
    ")"
   ]
  },
  {
   "cell_type": "code",
   "execution_count": null,
   "metadata": {},
   "outputs": [],
   "source": [
    "# Спецсимволы нужно экранировать символом \\\n",
    "\n",
    "print( 'hello \\n \\'world\\' \\\\ ')"
   ]
  },
  {
   "cell_type": "code",
   "execution_count": null,
   "metadata": {
    "scrolled": false
   },
   "outputs": [],
   "source": [
    "# различные префиксы, обозначающие тип строки\n",
    "\n",
    "print( r'hello \\\\\\\\')              # сырые строки - игнорируют экранирование\n",
    "print( b'hello' )                  # байтовые строки - только симолы ASCII\n",
    "print( f'hello {1 + 2}' )          # форматные строки, где в фигурных скобках выражение или переменная"
   ]
  },
  {
   "cell_type": "code",
   "execution_count": null,
   "metadata": {},
   "outputs": [],
   "source": [
    "# str() - встроенная функция преобразования аргумента в строку\n",
    "\n",
    "print( str(120389) )\n",
    "print( str(2.3448) )\n",
    "print( str(True) )"
   ]
  },
  {
   "cell_type": "markdown",
   "metadata": {},
   "source": [
    "### Операции со строками\n",
    "\n"
   ]
  },
  {
   "cell_type": "code",
   "execution_count": null,
   "metadata": {
    "scrolled": true
   },
   "outputs": [],
   "source": [
    "# Конкатенация строк - добавить к одной строки другую\n",
    "\n",
    "print( 'Hello , ' + 'World!' )"
   ]
  },
  {
   "cell_type": "code",
   "execution_count": null,
   "metadata": {},
   "outputs": [],
   "source": [
    "# Умножение строки на целое число n - повторение строки n раз\n",
    "\n",
    "print( 'hello' * 10 )\n",
    "print( 10 * 'hello' )"
   ]
  },
  {
   "cell_type": "code",
   "execution_count": null,
   "metadata": {},
   "outputs": [],
   "source": [
    "# len() - встроенная функция, которая выдаёт длину строки\n",
    "\n",
    "s = 'hello'\n",
    "print( len(s) )"
   ]
  },
  {
   "cell_type": "code",
   "execution_count": null,
   "metadata": {},
   "outputs": [],
   "source": [
    "# in и not in- ключевые слова, обозначающую операции поиска подстроки в строке (и не только строк, но об этом позже)\n",
    "\n",
    "# результат - True или False\n",
    "\n",
    "s = 'Hello'\n",
    "string = 'Hello, World!'\n",
    "\n",
    "if s in string:\n",
    "    print( 'Подстрока найдена!' )\n",
    "elif s not in string:\n",
    "    print( 'Подстрока не найдена!')"
   ]
  },
  {
   "cell_type": "code",
   "execution_count": null,
   "metadata": {
    "scrolled": true
   },
   "outputs": [],
   "source": [
    "# Поскольку всё в Питоне - объекты, и строки - не исключение, у них есть ряд методов, вызывающихся через точку\n",
    "\n",
    "s = 'Hello'\n",
    "\n",
    "# str.count(s) - выдаёт количество вхождений подстроки s в строку\n",
    "\n",
    "print( s.count('l') )\n",
    "print( s.count('Hell') )\n",
    "\n",
    "# str.upper() - перевод строки в верхний регистр\n",
    "\n",
    "print( s.upper() )\n",
    "\n",
    "# Методы можно вызывать не только у переменной, но и самой строки\n",
    "\n",
    "print( 'Hello'.upper() )"
   ]
  },
  {
   "cell_type": "markdown",
   "metadata": {},
   "source": [
    "### Индексация строк и срезы: indexes and slices"
   ]
  },
  {
   "cell_type": "code",
   "execution_count": null,
   "metadata": {},
   "outputs": [],
   "source": [
    "# Строка - это упорядоченная последовательность символов, \n",
    "# соответственно все символы в ней имеют свой порядковый номер - индекс\n",
    "\n",
    "# Обращение по индексу происходит через квадратные скобки, как в С++\n",
    "# Индексация - с нуля\n",
    "\n",
    "string = 'Hello'\n",
    "print( string[0] )\n",
    "\n",
    "print( 'Hello'[1] )             # как и с методами, обращаться можно к самой строке"
   ]
  },
  {
   "cell_type": "code",
   "execution_count": null,
   "metadata": {
    "scrolled": true
   },
   "outputs": [],
   "source": [
    "# Если обратиться к несуществующему индексу - будет ошибка\n",
    "\n",
    "print( 'Hello'[10] )"
   ]
  },
  {
   "cell_type": "code",
   "execution_count": null,
   "metadata": {},
   "outputs": [],
   "source": [
    "# Но если обратиться к отрицательному индексу, то индексация будет с конца (-1 будет как бы 0)\n",
    "\n",
    "print( 'Hello'[-1] )\n",
    "print( 'Hello'[-2] )\n",
    "print( 'Hello'[-3] )\n",
    "print( 'Hello'[-4] )\n",
    "print( 'Hello'[-5] )\n",
    "print( 'Hello'[-6] )         # Опять же ошибка\n"
   ]
  },
  {
   "cell_type": "code",
   "execution_count": null,
   "metadata": {},
   "outputs": [],
   "source": [
    "# Срез - новая подстрока, составленная из символов исходной строки с индексами, попадающими в указанный интервал\n",
    "# Синтаксис: s[i:j] - срез строки s от индекса i включительно до индекса j не включительно!\n",
    "\n",
    "string = 'Hello'\n",
    "\n",
    "print( string[0:2] )               # возьмёт символы с индексами 0 и 1, 2 - не включительно!\n",
    "print( string[2:3] )               # возьмёт символ с индексом 2 \n",
    "print( string[3:3] )               # пустая строка получится \n",
    "print( string[0:len(string)] )     # от 0 до длины строки не включительно, т.е. целиком строку\n",
    "\n",
    "# И с отрицательными индексами\n",
    "\n",
    "print( string[-4:-2])\n",
    "print( string[2:-1])              # последний не включая, помните!!!!\n"
   ]
  },
  {
   "cell_type": "code",
   "execution_count": null,
   "metadata": {},
   "outputs": [],
   "source": [
    "# Если не указывать начальный или конечный индексы, то можно выбрать с начала и до i, от i и до конца, всю строку\n",
    "\n",
    "print( string[:3] )\n",
    "print( string[3:] )\n",
    "print( string[:] )\n",
    "\n",
    "# И с отрицательными индексами\n",
    "\n",
    "print( string[-3:] )\n",
    "print( string[:-3] )"
   ]
  },
  {
   "cell_type": "code",
   "execution_count": null,
   "metadata": {
    "scrolled": true
   },
   "outputs": [],
   "source": [
    "# s[beg:end:step] - общий случай, то есть можно указать шак step, с которым берутся индексы\n",
    "\n",
    "print( string[0:3:2] )\n",
    "print( string[:3:2] )\n",
    "print( string[1::2] )\n",
    "print( string[::2] )\n",
    "print( string[::-2] )\n"
   ]
  },
  {
   "cell_type": "markdown",
   "metadata": {},
   "source": [
    "### \"Неизменяемость\" строк: immutable"
   ]
  },
  {
   "cell_type": "code",
   "execution_count": null,
   "metadata": {
    "scrolled": true
   },
   "outputs": [],
   "source": [
    "# Нельзя изменить символ в строке напрямую\n",
    "\n",
    "string = 'hello'\n",
    "\n",
    "string[2] = 'A'      # Ошибка"
   ]
  },
  {
   "cell_type": "code",
   "execution_count": null,
   "metadata": {},
   "outputs": [],
   "source": [
    "# Любая операция со строками создаёт новую строку (новый объект с другим id)\n",
    "\n",
    "s1 = 'hello'\n",
    "\n",
    "print( s1 is s1.upper() )"
   ]
  },
  {
   "cell_type": "code",
   "execution_count": null,
   "metadata": {},
   "outputs": [],
   "source": [
    "# И само собой индексация и срез возвращают новую строку\n",
    "\n",
    "s = 'hello'\n",
    "print( s[1], type(s[1]) )\n",
    "print( s[3:], type(s[3:]) )"
   ]
  },
  {
   "cell_type": "markdown",
   "metadata": {},
   "source": [
    "### Тип данных список: list"
   ]
  },
  {
   "cell_type": "code",
   "execution_count": null,
   "metadata": {},
   "outputs": [],
   "source": [
    "# Список - это объект, содержащий упорядоченный список объектов в общем случае РАЗНОГО типа, являющихся его элементами\n",
    "\n",
    "# К элементам списка можно обращаться по индексу (как к символам строки) и изменять их (в отличие от строк)\n",
    "\n",
    "# Синтаксис - квадратные скобки\n",
    "\n",
    "print( [1, 2, 3, 4] )         # элементы одного типа\n",
    "\n",
    "print( [1, 2.0, '3'] )         # элементы разного типа"
   ]
  },
  {
   "cell_type": "code",
   "execution_count": null,
   "metadata": {
    "scrolled": true
   },
   "outputs": [],
   "source": [
    "# Список можно присвоить переменной\n",
    "\n",
    "a = [1, 2, 3, 4]\n",
    "\n",
    "print( a, type(a) )\n",
    "\n",
    "# И обращаться по индексу\n",
    "\n",
    "print( a[1], type(a[1]) )\n",
    "\n",
    "# И взять срез\n",
    "\n",
    "print( a[2:], type(a[2:]))"
   ]
  },
  {
   "cell_type": "code",
   "execution_count": null,
   "metadata": {
    "scrolled": true
   },
   "outputs": [],
   "source": [
    "# Пустой список - пустые квадратные скобки\n",
    "\n",
    "a = []\n",
    "print(a)\n",
    "\n",
    "# А также через функцию приведения к типу list() (на самом деле конструктор класса)\n",
    "\n",
    "a = list()\n",
    "print(a)"
   ]
  },
  {
   "cell_type": "code",
   "execution_count": null,
   "metadata": {},
   "outputs": [],
   "source": [
    "# можно строку превратить в список символов (строк длиной 1)\n",
    "\n",
    "hello = list('hello')\n",
    "\n",
    "print( hello )"
   ]
  },
  {
   "cell_type": "markdown",
   "metadata": {},
   "source": [
    "### Операции над списками"
   ]
  },
  {
   "cell_type": "code",
   "execution_count": null,
   "metadata": {},
   "outputs": [],
   "source": [
    "# Большинство операций - как со строками\n",
    "\n",
    "l1 = [1, 2.0, 3]\n",
    "l2 = [4, 5]\n",
    "\n",
    "# Проверка на вхождение элемента в список (но только одного)\n",
    "\n",
    "print( 1 in l1 )\n",
    "\n",
    "# Конкатенация списков\n",
    "\n",
    "print( l1 + l2 )\n",
    "\n",
    "# Умножение списка на число - повторение n раз\n",
    "\n",
    "print( l1 * 3 )\n",
    "\n",
    "# Количество элементов в списке\n",
    "\n",
    "print( len(l1) )\n",
    "\n",
    "# Минимальный элемент в списке (только для элементов, типы которых можно между собой сравнить)\n",
    "\n",
    "print( min(l1) )\n",
    "\n",
    "# Максимальный элемент в списке\n",
    "\n",
    "print( max(l1) )"
   ]
  },
  {
   "cell_type": "code",
   "execution_count": null,
   "metadata": {},
   "outputs": [],
   "source": [
    "# Список - объект, поэтому у него есть свойства и методы\n",
    "\n",
    "a = [1, 2, 3 ,4]\n",
    "\n",
    "print(a)\n",
    "\n",
    "# append(element) - добавление элемента в конец списка\n",
    "\n",
    "a.append(5)\n",
    "\n",
    "print(a)\n",
    "\n",
    "# pop() - Удаление элемента с конца\n",
    "\n",
    "a.pop()\n",
    "\n",
    "print(a)\n",
    "\n",
    "# insert(index, element) - вставка элемента перед индексом index\n",
    "\n",
    "a.insert(0, 0)\n",
    "\n",
    "print(a)"
   ]
  },
  {
   "cell_type": "markdown",
   "metadata": {},
   "source": [
    "### \"Изменяемость\" списков: mutable"
   ]
  },
  {
   "cell_type": "code",
   "execution_count": null,
   "metadata": {},
   "outputs": [],
   "source": [
    "# Обратили внимание, что a.append ничему не присваевается? Потому что список меняет себя сам\n",
    "\n",
    "a = [1, 2, 3]\n",
    "\n",
    "print( a, id(a) )\n",
    "\n",
    "a.append(4)\n",
    "\n",
    "print( a, id(a) )\n",
    "\n",
    "# Однако срез всегда создаёт новый список, даже если значения те же самые\n",
    "\n",
    "b = a[:]\n",
    "\n",
    "print( b, b is a, id(b) )"
   ]
  },
  {
   "cell_type": "code",
   "execution_count": null,
   "metadata": {
    "scrolled": true
   },
   "outputs": [],
   "source": [
    "# Так всё-таки, что значит изменяемый тип данных?\n",
    "\n",
    "a = [1, 2, 3]\n",
    "\n",
    "b = a\n",
    "\n",
    "print(a, b, a is b)\n",
    "\n",
    "# Изменим элемент в a\n",
    "\n",
    "a[0] = 0\n",
    "\n",
    "print(a, b, a is b)"
   ]
  },
  {
   "cell_type": "markdown",
   "metadata": {},
   "source": [
    "### Тип данных кортеж: tuple"
   ]
  },
  {
   "cell_type": "code",
   "execution_count": null,
   "metadata": {},
   "outputs": [],
   "source": [
    "# tuple - специальный неизменяемый тип данных в Питоне, который по сути список, который нельзя изменять\n",
    "\n",
    "# Синтаксис - как список, только скобки - круглые\n",
    "\n",
    "a_list = [1, 2, 3]\n",
    "a_tuple = (1, 2, 3)\n",
    "\n",
    "print(a_list, a_tuple)"
   ]
  },
  {
   "cell_type": "code",
   "execution_count": null,
   "metadata": {},
   "outputs": [],
   "source": [
    "# Индексация - так же, как списки и строки\n",
    "\n",
    "print( a_tuple[2] )\n",
    "print( a_tuple[-1] )\n",
    "print( a_tuple[1:] )"
   ]
  },
  {
   "cell_type": "markdown",
   "metadata": {},
   "source": [
    "### Операции над кортежами"
   ]
  },
  {
   "cell_type": "code",
   "execution_count": null,
   "metadata": {
    "scrolled": true
   },
   "outputs": [],
   "source": [
    "# Операции над кортежами уже знакомы по строкамм и спискам\n",
    "\n",
    "t1 = (1, 2.0, 3)\n",
    "t2 = (4, 5)\n",
    "\n",
    "# Проверка на вхождение элемента в кортеж (но только одного)\n",
    "\n",
    "print( 1 in t1 )\n",
    "\n",
    "# Конкатенация кортежей\n",
    "\n",
    "print( t1 + t2 )\n",
    "\n",
    "# Умножение списка на число - повторение n раз\n",
    "\n",
    "print( t1 * 3 )\n",
    "\n",
    "# Количество элементов в кортеже\n",
    "\n",
    "print( len(t1) )\n",
    "\n",
    "# Минимальный элемент в кортеже (только для элементов, типы которых можно между собой сравнить)\n",
    "\n",
    "print( min(t1) )\n",
    "\n",
    "# Максимальный элемент в кортеже\n",
    "\n",
    "print( max(t1) )\n",
    "\n",
    "# Количество вхожденийй элемента в кортеж\n",
    "\n",
    "print( t1.count(1) )"
   ]
  },
  {
   "cell_type": "markdown",
   "metadata": {},
   "source": [
    "### \"Распаковка значений\" итерируемых типов"
   ]
  },
  {
   "cell_type": "code",
   "execution_count": null,
   "metadata": {},
   "outputs": [],
   "source": [
    "# Строки, кортежи и списки можно распаковать в отдельные переменные\n",
    "\n",
    "a_tuple = (1, 2, 3)\n",
    "\n",
    "x, y, z = a_tuple\n",
    "\n",
    "print( x, y, z )"
   ]
  },
  {
   "cell_type": "code",
   "execution_count": null,
   "metadata": {
    "scrolled": true
   },
   "outputs": [],
   "source": [
    "# Количество переменных слева должно быть равно количеству элементов в коллекции, иначе ошибка\n",
    "\n",
    "x, y = a_tuple\n",
    "\n",
    "print( x, y )"
   ]
  },
  {
   "cell_type": "code",
   "execution_count": null,
   "metadata": {},
   "outputs": [],
   "source": [
    "# _ - нижнее подчёркивание - специальный символ, который используется в распаковке коллекций, если элемент не нужно сохранять\n",
    "\n",
    "x, y, _ = a_tuple       # ошибки не будет\n",
    "\n",
    "print( x, y )"
   ]
  },
  {
   "cell_type": "markdown",
   "metadata": {},
   "source": [
    "## Часть 3. Самая интересная"
   ]
  },
  {
   "cell_type": "markdown",
   "metadata": {},
   "source": [
    "### Цикл for"
   ]
  },
  {
   "cell_type": "code",
   "execution_count": null,
   "metadata": {
    "scrolled": true
   },
   "outputs": [],
   "source": [
    "# Цикл for в Питоне - разрыв шаблона после C++. \n",
    "\n",
    "'''\n",
    "Синтаксис:\n",
    "\n",
    "for element in iterable:\n",
    "    do_stuff(element)\n",
    "\n",
    "где iterable - итерируемый объект (строка, список и другие), \n",
    "а element - очередной элемент этого объекта, на каждом шаге цикла - разный\n",
    "\n",
    "То есть перебираются все элементы iterable и записываются в переменную element на каждом шаге. Питон сам узнаёт длину iterable\n",
    "'''\n",
    "\n",
    "# Рассмотрим на примере строки\n",
    "\n",
    "string = 'hello'\n",
    "\n",
    "for char in string:\n",
    "    print(char)"
   ]
  },
  {
   "cell_type": "code",
   "execution_count": null,
   "metadata": {
    "scrolled": false
   },
   "outputs": [],
   "source": [
    "# объединим со срезами\n",
    "\n",
    "for char in string[2:4]:\n",
    "    print(char)"
   ]
  },
  {
   "cell_type": "code",
   "execution_count": null,
   "metadata": {
    "scrolled": true
   },
   "outputs": [],
   "source": [
    "# break - ключевое слово для выхода из цикла на текущей итерации\n",
    "# continue - ключевое слово для немедленного перехода к следующей итерации цикла\n",
    "# else - блок после цикла, который выполнится после полного выполнения цикла. То есть если не сработал break\n",
    "\n",
    "for char in string:\n",
    "    if char == 'l':\n",
    "        continue\n",
    "    elif char == 'a':\n",
    "        break\n",
    "    print(char)\n",
    "else:\n",
    "    print('else')"
   ]
  },
  {
   "cell_type": "code",
   "execution_count": null,
   "metadata": {
    "scrolled": true
   },
   "outputs": [],
   "source": [
    "# на примере списка\n",
    "\n",
    "a_list = [1, 2, 3]\n",
    "\n",
    "for a in a_list:\n",
    "    print(a + 10)"
   ]
  },
  {
   "cell_type": "markdown",
   "metadata": {},
   "source": [
    "### Встроенная функция range"
   ]
  },
  {
   "cell_type": "code",
   "execution_count": null,
   "metadata": {},
   "outputs": [],
   "source": [
    "# range(beg, end, step) - функция, которая возращает последовательность чисел от beg до end не включительно с шагом step\n",
    "\n",
    "# beg, end, step - только int!\n",
    "\n",
    "# варианты вызова: range(end), range(beg, end), range(beg, end, step)\n",
    "\n",
    "# range(end) - последовательность от 0 до end не включительно\n",
    "\n",
    "a = [1, 2, 3, 4, 5]\n",
    "\n",
    "for i in range( len(a) ):\n",
    "    print( a[i] )     "
   ]
  },
  {
   "cell_type": "code",
   "execution_count": null,
   "metadata": {},
   "outputs": [],
   "source": [
    "# range(beg, end) - последовательность от beg включительно до end не включительно\n",
    "\n",
    "for i in range(0, 2):\n",
    "    print( a[i] )"
   ]
  },
  {
   "cell_type": "code",
   "execution_count": null,
   "metadata": {
    "scrolled": false
   },
   "outputs": [],
   "source": [
    "# range(beg, end, step) - последовательность от beg включительно до end не включительно с шагом step\n",
    "\n",
    "for i in range(0, len(a), 2):\n",
    "    print( a[i] )"
   ]
  },
  {
   "cell_type": "code",
   "execution_count": null,
   "metadata": {
    "scrolled": true
   },
   "outputs": [],
   "source": [
    "# Удобно использовать для создания списков\n",
    "\n",
    "a = list( range( 2, 10, 3) )\n",
    "\n",
    "print( a )"
   ]
  },
  {
   "cell_type": "markdown",
   "metadata": {},
   "source": [
    "### Встроенная функция enumerate"
   ]
  },
  {
   "cell_type": "code",
   "execution_count": null,
   "metadata": {},
   "outputs": [],
   "source": [
    "# Иногда хочется получить и индекс, и элемента строки или списка\n",
    "\n",
    "# enumerate(iterable) - функция, возвращающая последовательность пар индексов и элементов по этому индексу\n",
    "#                       итерируемого объекта iterabel, которые представлены в виде кортежей\n",
    "\n",
    "string = 'hello'\n",
    "\n",
    "for a_tuple in enumerate(string):\n",
    "    print(a_tuple)"
   ]
  },
  {
   "cell_type": "code",
   "execution_count": null,
   "metadata": {},
   "outputs": [],
   "source": [
    "# Для удобства использования, распаковывают кортеж сразу, который выдаёт enumerate\n",
    "\n",
    "for i, s in enumerate(string):\n",
    "    print( i, s )"
   ]
  },
  {
   "cell_type": "markdown",
   "metadata": {},
   "source": [
    "### Цикл while"
   ]
  },
  {
   "cell_type": "code",
   "execution_count": null,
   "metadata": {},
   "outputs": [],
   "source": [
    "# Цикл while - классическая управляющая конструкция, в Питоне он как и в C++\n",
    "\n",
    "# Цикл - составной оператор, поэтому тело цикла - с отступами\n",
    "\n",
    "x = 3\n",
    "\n",
    "while x > 0:\n",
    "    \n",
    "    print(x)\n",
    "    x -= 1"
   ]
  },
  {
   "cell_type": "code",
   "execution_count": null,
   "metadata": {
    "scrolled": true
   },
   "outputs": [],
   "source": [
    "# break - ключевое слово для выхода из цикла на текущей итерации\n",
    "# continue - ключевое слово для немедленного перехода к следующей итерации цикла\n",
    "# else - блок после цикла, который выполнится после полного выполнения цикла. То есть если не сработал break\n",
    "\n",
    "x = 5\n",
    "\n",
    "while x > 0:\n",
    "    x -= 1\n",
    "    if x == 1:\n",
    "        break\n",
    "    elif x == 3:\n",
    "        continue\n",
    "    print(x)    \n",
    "else:\n",
    "    print('else')"
   ]
  },
  {
   "cell_type": "markdown",
   "metadata": {},
   "source": [
    "## Часть 4. Самая практическая"
   ]
  },
  {
   "cell_type": "markdown",
   "metadata": {},
   "source": [
    "### Задача 1. FizzBuzz\n",
    "\n",
    "В ячейке ниже напишите программу, которая для чисел от 1 до 50 печает следующее:\n",
    "- \"Fizz\", если текущее число делится на 3 без остатка\n",
    "- \"Buzz\", если текущее число делится на 5 без осстатка\n",
    "- \"FizzBuzz\", если текущее число делится и на 3 и на 5 без остатка одновременно\n",
    "- просто печатает текущее число, если не выполняются условия выше\n",
    "\n",
    "Пример вывода:\n",
    "```\n",
    "1\n",
    "2\n",
    "fizz\n",
    "4 \n",
    "buzz\n",
    "...```"
   ]
  },
  {
   "cell_type": "code",
   "execution_count": null,
   "metadata": {},
   "outputs": [],
   "source": [
    "# Задача1. FizzBuzz\n",
    "\n"
   ]
  },
  {
   "cell_type": "markdown",
   "metadata": {},
   "source": [
    "### Задача 2. Палиндром\n",
    "Палиндром - это слово, которое пишется слева направо и справа налево одинаково (напирмер, \"боб\"). В ячейке ниже напишите програму, которая просит пользователя ввести строку или число (всё равно функция input() выдаёт строку) и проверяет, является ли введённая строка палиндромом.\n",
    "\n",
    "Пример вывода:\n",
    "```\n",
    "Введите строку: боб\n",
    "Строка \"боб\" - палиндром.\n",
    "\n",
    "Введите строку: яблоко\n",
    "Строка \"яблоко\" - не палиндром.\n",
    "```\n"
   ]
  },
  {
   "cell_type": "code",
   "execution_count": null,
   "metadata": {},
   "outputs": [],
   "source": [
    "# Задача 2. Палиндром\n",
    "\n"
   ]
  },
  {
   "cell_type": "markdown",
   "metadata": {},
   "source": [
    "### Задача 3. Думерный массив\n",
    "В ячейке ниже напишите программу, которая создаёт двумерный массив (список с\n",
    "писков) размерности `M` на `N` из чисел от нуля до `M*N - 1`. Числа `M` и `N` пользователь вводит сам, они должны быть в интервале `2 <= M,N <= 5`. Созданный массив нужно вывести на экран в красивом виде (см. пример вывода).\n",
    "\n",
    "Пример вывода:\n",
    "```\n",
    "Введите количество строк M: 3\n",
    "Введите количество столбцов N: 2\n",
    "[\n",
    "    [ 0, 1 ]\n",
    "    [ 2, 3 ]\n",
    "    [ 4, 5 ]\n",
    "]\n",
    "```"
   ]
  },
  {
   "cell_type": "code",
   "execution_count": null,
   "metadata": {},
   "outputs": [],
   "source": [
    "# Задача 3. Двумерный массив\n",
    "\n"
   ]
  }
 ],
 "metadata": {
  "kernelspec": {
   "display_name": "Python 3",
   "language": "python",
   "name": "python3"
  },
  "language_info": {
   "codemirror_mode": {
    "name": "ipython",
    "version": 3
   },
   "file_extension": ".py",
   "mimetype": "text/x-python",
   "name": "python",
   "nbconvert_exporter": "python",
   "pygments_lexer": "ipython3",
   "version": "3.6.3"
  }
 },
 "nbformat": 4,
 "nbformat_minor": 2
}
